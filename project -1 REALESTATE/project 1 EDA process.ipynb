{
 "cells": [
  {
   "cell_type": "markdown",
   "id": "33cb8054",
   "metadata": {},
   "source": [
    "# EDA PROCESS"
   ]
  },
  {
   "cell_type": "markdown",
   "id": "b8b11b1e",
   "metadata": {},
   "source": [
    " The steps of EDA in Python\n",
    "* removing unnessary columns \n",
    "* Exploratory Data Analysis (EDA) Steps with Python\n",
    "* Check data shape (num of Rows & Columns) .\n",
    "* Check each data type of columns and missing values (if missing values is present replace with mean & mode , if missing values are more then 50% in row drop).\n",
    "* Splitting values. \n",
    "* Change the data type\n",
    "* Check the percentages of missing value. \n",
    "* Summary Statistics. \n",
    "* Check value counts for a specific column. \n",
    "* Check duplicate values and deal with it.\n",
    "* univariate,bivariate,multipl variet ANALYSIS (for each and ever column).\n",
    "* checking co-relation.\n",
    "* removing outliers.\n",
    "\n",
    "** The main agenda of EDA process is to represent the data in visulization format like(graphs,charts,dashbords,plots) for better way to understand data easly"
   ]
  },
  {
   "cell_type": "code",
   "execution_count": null,
   "id": "d6b4fcf1",
   "metadata": {},
   "outputs": [],
   "source": []
  }
 ],
 "metadata": {
  "kernelspec": {
   "display_name": "Python 3",
   "language": "python",
   "name": "python3"
  },
  "language_info": {
   "codemirror_mode": {
    "name": "ipython",
    "version": 3
   },
   "file_extension": ".py",
   "mimetype": "text/x-python",
   "name": "python",
   "nbconvert_exporter": "python",
   "pygments_lexer": "ipython3",
   "version": "3.8.8"
  }
 },
 "nbformat": 4,
 "nbformat_minor": 5
}
