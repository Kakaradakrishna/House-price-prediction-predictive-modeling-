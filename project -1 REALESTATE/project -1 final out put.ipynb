{
 "cells": [
  {
   "cell_type": "code",
   "execution_count": 1,
   "id": "cf8b9ccf",
   "metadata": {},
   "outputs": [],
   "source": [
    "import pandas as pd\n",
    "import numpy as np\n",
    "import seaborn as sns\n",
    "import matplotlib.pyplot as plt\n",
    "import warnings\n",
    "warnings.filterwarnings('ignore')"
   ]
  },
  {
   "cell_type": "code",
   "execution_count": 2,
   "id": "3c1a43b0",
   "metadata": {},
   "outputs": [],
   "source": [
    "data=pd.read_csv(r\"C:\\Users\\kakar\\Downloads\\DS Data sets\\Realestate_final.csv\")"
   ]
  },
  {
   "cell_type": "code",
   "execution_count": 3,
   "id": "868dca20",
   "metadata": {},
   "outputs": [],
   "source": [
    "df=data.copy()"
   ]
  },
  {
   "cell_type": "code",
   "execution_count": 4,
   "id": "cf7ea1fc",
   "metadata": {},
   "outputs": [
    {
     "data": {
      "text/html": [
       "<div>\n",
       "<style scoped>\n",
       "    .dataframe tbody tr th:only-of-type {\n",
       "        vertical-align: middle;\n",
       "    }\n",
       "\n",
       "    .dataframe tbody tr th {\n",
       "        vertical-align: top;\n",
       "    }\n",
       "\n",
       "    .dataframe thead th {\n",
       "        text-align: right;\n",
       "    }\n",
       "</style>\n",
       "<table border=\"1\" class=\"dataframe\">\n",
       "  <thead>\n",
       "    <tr style=\"text-align: right;\">\n",
       "      <th></th>\n",
       "      <th>links</th>\n",
       "      <th>price</th>\n",
       "      <th>Last Updated</th>\n",
       "      <th>Listing Type</th>\n",
       "      <th>Property Type</th>\n",
       "      <th>Building Type</th>\n",
       "      <th>City</th>\n",
       "      <th>Locality</th>\n",
       "      <th>Area</th>\n",
       "      <th>Price</th>\n",
       "      <th>...</th>\n",
       "      <th>Number of Rooms</th>\n",
       "      <th>Number of Bathroom</th>\n",
       "      <th>Number of Parking</th>\n",
       "      <th>View /Facing</th>\n",
       "      <th>Floor No.</th>\n",
       "      <th>Tower/Block</th>\n",
       "      <th>Additional Rooms</th>\n",
       "      <th>Age of Property (Years)</th>\n",
       "      <th>Unit No</th>\n",
       "      <th>Total Floor Count</th>\n",
       "    </tr>\n",
       "  </thead>\n",
       "  <tbody>\n",
       "    <tr>\n",
       "      <th>0</th>\n",
       "      <td>https://www.squareyards.com/resale-3-bhk-pooja...</td>\n",
       "      <td>₹ 1.04 Cr.</td>\n",
       "      <td>20 Apr 2022</td>\n",
       "      <td>Sale</td>\n",
       "      <td>Residential</td>\n",
       "      <td>Apartment</td>\n",
       "      <td>Hyderabad</td>\n",
       "      <td>Miyapur</td>\n",
       "      <td>1680 Sq.Ft. (Built-up Area)</td>\n",
       "      <td>1.04 Cr.</td>\n",
       "      <td>...</td>\n",
       "      <td>3</td>\n",
       "      <td>2</td>\n",
       "      <td>2</td>\n",
       "      <td>North</td>\n",
       "      <td>2</td>\n",
       "      <td>1</td>\n",
       "      <td>Pooja Room,Study Room,Extra Room</td>\n",
       "      <td>0-1</td>\n",
       "      <td>1</td>\n",
       "      <td>5</td>\n",
       "    </tr>\n",
       "    <tr>\n",
       "      <th>1</th>\n",
       "      <td>https://www.squareyards.com/resale-3-bhk-pooja...</td>\n",
       "      <td>₹ 1.04 Cr.</td>\n",
       "      <td>03 May 2022</td>\n",
       "      <td>Sale</td>\n",
       "      <td>Residential</td>\n",
       "      <td>Apartment</td>\n",
       "      <td>Hyderabad</td>\n",
       "      <td>Kondapur</td>\n",
       "      <td>1600 Sq.Ft. (Built-up Area)</td>\n",
       "      <td>1.04 Cr.</td>\n",
       "      <td>...</td>\n",
       "      <td>3</td>\n",
       "      <td>3</td>\n",
       "      <td>1</td>\n",
       "      <td>West</td>\n",
       "      <td>2</td>\n",
       "      <td>1</td>\n",
       "      <td>Pooja Room,Study Room</td>\n",
       "      <td>0-1</td>\n",
       "      <td>202</td>\n",
       "      <td>5</td>\n",
       "    </tr>\n",
       "    <tr>\n",
       "      <th>2</th>\n",
       "      <td>https://www.squareyards.com/resale-3-bhk-pooja...</td>\n",
       "      <td>₹ 69.46 Lac</td>\n",
       "      <td>28 Apr 2022</td>\n",
       "      <td>Sale</td>\n",
       "      <td>Residential</td>\n",
       "      <td>Apartment</td>\n",
       "      <td>Hyderabad</td>\n",
       "      <td>Kollur</td>\n",
       "      <td>1579 Sq.Ft. (Built-up Area)</td>\n",
       "      <td>69.46 Lac</td>\n",
       "      <td>...</td>\n",
       "      <td>3</td>\n",
       "      <td>3</td>\n",
       "      <td>2</td>\n",
       "      <td>East</td>\n",
       "      <td>7</td>\n",
       "      <td>3</td>\n",
       "      <td>Pooja Room</td>\n",
       "      <td>0-1</td>\n",
       "      <td>95</td>\n",
       "      <td>15</td>\n",
       "    </tr>\n",
       "    <tr>\n",
       "      <th>3</th>\n",
       "      <td>https://www.squareyards.com/resale-3-bhk-pooja...</td>\n",
       "      <td>₹ 1.13 Cr.</td>\n",
       "      <td>29 Apr 2022</td>\n",
       "      <td>Sale</td>\n",
       "      <td>Residential</td>\n",
       "      <td>Apartment</td>\n",
       "      <td>Hyderabad</td>\n",
       "      <td>Kondapur</td>\n",
       "      <td>1515 Sq.Ft. (Built-up Area)</td>\n",
       "      <td>1.13 Cr.</td>\n",
       "      <td>...</td>\n",
       "      <td>3</td>\n",
       "      <td>2</td>\n",
       "      <td>1</td>\n",
       "      <td>East</td>\n",
       "      <td>5</td>\n",
       "      <td>1</td>\n",
       "      <td>Pooja Room</td>\n",
       "      <td>0-1</td>\n",
       "      <td>10</td>\n",
       "      <td>5</td>\n",
       "    </tr>\n",
       "    <tr>\n",
       "      <th>4</th>\n",
       "      <td>https://www.squareyards.com/resale-2-bhk-serva...</td>\n",
       "      <td>₹ 46 Lac</td>\n",
       "      <td>29 Apr 2022</td>\n",
       "      <td>Sale</td>\n",
       "      <td>Residential</td>\n",
       "      <td>Apartment</td>\n",
       "      <td>Hyderabad</td>\n",
       "      <td>Tolichowki</td>\n",
       "      <td>1100 Sq.Ft. (Built-up Area)</td>\n",
       "      <td>46 Lac</td>\n",
       "      <td>...</td>\n",
       "      <td>2</td>\n",
       "      <td>2</td>\n",
       "      <td>1</td>\n",
       "      <td>East</td>\n",
       "      <td>2</td>\n",
       "      <td>A</td>\n",
       "      <td>Servant Room</td>\n",
       "      <td>0-1</td>\n",
       "      <td>5</td>\n",
       "      <td>5</td>\n",
       "    </tr>\n",
       "    <tr>\n",
       "      <th>...</th>\n",
       "      <td>...</td>\n",
       "      <td>...</td>\n",
       "      <td>...</td>\n",
       "      <td>...</td>\n",
       "      <td>...</td>\n",
       "      <td>...</td>\n",
       "      <td>...</td>\n",
       "      <td>...</td>\n",
       "      <td>...</td>\n",
       "      <td>...</td>\n",
       "      <td>...</td>\n",
       "      <td>...</td>\n",
       "      <td>...</td>\n",
       "      <td>...</td>\n",
       "      <td>...</td>\n",
       "      <td>...</td>\n",
       "      <td>...</td>\n",
       "      <td>...</td>\n",
       "      <td>...</td>\n",
       "      <td>...</td>\n",
       "      <td>...</td>\n",
       "    </tr>\n",
       "    <tr>\n",
       "      <th>1975</th>\n",
       "      <td>https://www.squareyards.com/resale-2-bhk-pooja...</td>\n",
       "      <td>₹ 63.25 Lac</td>\n",
       "      <td>14 Jul 2021</td>\n",
       "      <td>Sale</td>\n",
       "      <td>Residential</td>\n",
       "      <td>Apartment</td>\n",
       "      <td>Hyderabad</td>\n",
       "      <td>Bachupally</td>\n",
       "      <td>1150 Sq.Ft. (Built-up Area)</td>\n",
       "      <td>63.25 Lac</td>\n",
       "      <td>...</td>\n",
       "      <td>2</td>\n",
       "      <td>2</td>\n",
       "      <td>1</td>\n",
       "      <td>East</td>\n",
       "      <td>6</td>\n",
       "      <td>A</td>\n",
       "      <td>Pooja Room</td>\n",
       "      <td>0-1</td>\n",
       "      <td>601</td>\n",
       "      <td>22</td>\n",
       "    </tr>\n",
       "    <tr>\n",
       "      <th>1976</th>\n",
       "      <td>https://www.squareyards.com/resale-2-bhk-pooja...</td>\n",
       "      <td>₹ 26.62 Lac</td>\n",
       "      <td>09 Nov 2021</td>\n",
       "      <td>Sale</td>\n",
       "      <td>Residential</td>\n",
       "      <td>Apartment</td>\n",
       "      <td>Hyderabad</td>\n",
       "      <td>Isnapur</td>\n",
       "      <td>1110 Sq.Ft. (Built-up Area)</td>\n",
       "      <td>26.62 Lac</td>\n",
       "      <td>...</td>\n",
       "      <td>2</td>\n",
       "      <td>2</td>\n",
       "      <td>2</td>\n",
       "      <td>South</td>\n",
       "      <td>2</td>\n",
       "      <td>2</td>\n",
       "      <td>Pooja Room,Study Room</td>\n",
       "      <td>0-1</td>\n",
       "      <td>25</td>\n",
       "      <td>4</td>\n",
       "    </tr>\n",
       "    <tr>\n",
       "      <th>1977</th>\n",
       "      <td>https://www.squareyards.com/resale-3-bhk-extra...</td>\n",
       "      <td>₹ 36.32 Lac</td>\n",
       "      <td>02 Dec 2021</td>\n",
       "      <td>Sale</td>\n",
       "      <td>Residential</td>\n",
       "      <td>Apartment</td>\n",
       "      <td>Hyderabad</td>\n",
       "      <td>Bandlaguda</td>\n",
       "      <td>1130 Sq.Ft. (Built-up Area)</td>\n",
       "      <td>36.32 Lac</td>\n",
       "      <td>...</td>\n",
       "      <td>3</td>\n",
       "      <td>2</td>\n",
       "      <td>1</td>\n",
       "      <td>North</td>\n",
       "      <td>6</td>\n",
       "      <td>27</td>\n",
       "      <td>Extra Room</td>\n",
       "      <td>0-1</td>\n",
       "      <td>2</td>\n",
       "      <td>5</td>\n",
       "    </tr>\n",
       "    <tr>\n",
       "      <th>1978</th>\n",
       "      <td>https://www.squareyards.com/resale-2-bhk-pooja...</td>\n",
       "      <td>₹ 71.06 Lac</td>\n",
       "      <td>08 Dec 2021</td>\n",
       "      <td>Sale</td>\n",
       "      <td>Residential</td>\n",
       "      <td>Apartment</td>\n",
       "      <td>Hyderabad</td>\n",
       "      <td>Pragathi Nagar</td>\n",
       "      <td>1292 Sq.Ft. (Built-up Area)</td>\n",
       "      <td>71.06 Lac</td>\n",
       "      <td>...</td>\n",
       "      <td>2</td>\n",
       "      <td>2</td>\n",
       "      <td>2</td>\n",
       "      <td>East</td>\n",
       "      <td>1</td>\n",
       "      <td>2</td>\n",
       "      <td>Pooja Room</td>\n",
       "      <td>0-1</td>\n",
       "      <td>2</td>\n",
       "      <td>7</td>\n",
       "    </tr>\n",
       "    <tr>\n",
       "      <th>1979</th>\n",
       "      <td>https://www.squareyards.com/resale-2-bhk-pooja...</td>\n",
       "      <td>₹ 55 Lac</td>\n",
       "      <td>07 Dec 2021</td>\n",
       "      <td>Sale</td>\n",
       "      <td>Residential</td>\n",
       "      <td>Apartment</td>\n",
       "      <td>Hyderabad</td>\n",
       "      <td>Suraram Colony</td>\n",
       "      <td>1250 Sq.Ft. (Built-up Area)</td>\n",
       "      <td>55 Lac</td>\n",
       "      <td>...</td>\n",
       "      <td>2</td>\n",
       "      <td>2</td>\n",
       "      <td>1</td>\n",
       "      <td>East</td>\n",
       "      <td>2</td>\n",
       "      <td>a</td>\n",
       "      <td>Pooja Room,Study Room,Extra Room</td>\n",
       "      <td>0-1</td>\n",
       "      <td>220</td>\n",
       "      <td>10</td>\n",
       "    </tr>\n",
       "  </tbody>\n",
       "</table>\n",
       "<p>1980 rows × 22 columns</p>\n",
       "</div>"
      ],
      "text/plain": [
       "                                                  links        price  \\\n",
       "0     https://www.squareyards.com/resale-3-bhk-pooja...   ₹ 1.04 Cr.   \n",
       "1     https://www.squareyards.com/resale-3-bhk-pooja...   ₹ 1.04 Cr.   \n",
       "2     https://www.squareyards.com/resale-3-bhk-pooja...  ₹ 69.46 Lac   \n",
       "3     https://www.squareyards.com/resale-3-bhk-pooja...   ₹ 1.13 Cr.   \n",
       "4     https://www.squareyards.com/resale-2-bhk-serva...     ₹ 46 Lac   \n",
       "...                                                 ...          ...   \n",
       "1975  https://www.squareyards.com/resale-2-bhk-pooja...  ₹ 63.25 Lac   \n",
       "1976  https://www.squareyards.com/resale-2-bhk-pooja...  ₹ 26.62 Lac   \n",
       "1977  https://www.squareyards.com/resale-3-bhk-extra...  ₹ 36.32 Lac   \n",
       "1978  https://www.squareyards.com/resale-2-bhk-pooja...  ₹ 71.06 Lac   \n",
       "1979  https://www.squareyards.com/resale-2-bhk-pooja...     ₹ 55 Lac   \n",
       "\n",
       "     Last Updated Listing Type Property Type Building Type       City  \\\n",
       "0     20 Apr 2022         Sale   Residential     Apartment  Hyderabad   \n",
       "1     03 May 2022         Sale   Residential     Apartment  Hyderabad   \n",
       "2     28 Apr 2022         Sale   Residential     Apartment  Hyderabad   \n",
       "3     29 Apr 2022         Sale   Residential     Apartment  Hyderabad   \n",
       "4     29 Apr 2022         Sale   Residential     Apartment  Hyderabad   \n",
       "...           ...          ...           ...           ...        ...   \n",
       "1975  14 Jul 2021         Sale   Residential     Apartment  Hyderabad   \n",
       "1976  09 Nov 2021         Sale   Residential     Apartment  Hyderabad   \n",
       "1977  02 Dec 2021         Sale   Residential     Apartment  Hyderabad   \n",
       "1978  08 Dec 2021         Sale   Residential     Apartment  Hyderabad   \n",
       "1979  07 Dec 2021         Sale   Residential     Apartment  Hyderabad   \n",
       "\n",
       "            Locality                         Area      Price  ...  \\\n",
       "0            Miyapur  1680 Sq.Ft. (Built-up Area)   1.04 Cr.  ...   \n",
       "1           Kondapur  1600 Sq.Ft. (Built-up Area)   1.04 Cr.  ...   \n",
       "2             Kollur  1579 Sq.Ft. (Built-up Area)  69.46 Lac  ...   \n",
       "3           Kondapur  1515 Sq.Ft. (Built-up Area)   1.13 Cr.  ...   \n",
       "4         Tolichowki  1100 Sq.Ft. (Built-up Area)     46 Lac  ...   \n",
       "...              ...                          ...        ...  ...   \n",
       "1975      Bachupally  1150 Sq.Ft. (Built-up Area)  63.25 Lac  ...   \n",
       "1976         Isnapur  1110 Sq.Ft. (Built-up Area)  26.62 Lac  ...   \n",
       "1977      Bandlaguda  1130 Sq.Ft. (Built-up Area)  36.32 Lac  ...   \n",
       "1978  Pragathi Nagar  1292 Sq.Ft. (Built-up Area)  71.06 Lac  ...   \n",
       "1979  Suraram Colony  1250 Sq.Ft. (Built-up Area)     55 Lac  ...   \n",
       "\n",
       "     Number of Rooms Number of Bathroom  Number of Parking  View /Facing  \\\n",
       "0                  3                  2                  2         North   \n",
       "1                  3                  3                  1          West   \n",
       "2                  3                  3                  2          East   \n",
       "3                  3                  2                  1          East   \n",
       "4                  2                  2                  1          East   \n",
       "...              ...                ...                ...           ...   \n",
       "1975               2                  2                  1          East   \n",
       "1976               2                  2                  2         South   \n",
       "1977               3                  2                  1         North   \n",
       "1978               2                  2                  2          East   \n",
       "1979               2                  2                  1          East   \n",
       "\n",
       "     Floor No. Tower/Block                  Additional Rooms  \\\n",
       "0            2           1  Pooja Room,Study Room,Extra Room   \n",
       "1            2           1             Pooja Room,Study Room   \n",
       "2            7           3                        Pooja Room   \n",
       "3            5           1                        Pooja Room   \n",
       "4            2           A                      Servant Room   \n",
       "...        ...         ...                               ...   \n",
       "1975         6           A                        Pooja Room   \n",
       "1976         2           2             Pooja Room,Study Room   \n",
       "1977         6          27                        Extra Room   \n",
       "1978         1           2                        Pooja Room   \n",
       "1979         2           a  Pooja Room,Study Room,Extra Room   \n",
       "\n",
       "     Age of Property (Years) Unit No Total Floor Count  \n",
       "0                        0-1       1                 5  \n",
       "1                        0-1     202                 5  \n",
       "2                        0-1      95                15  \n",
       "3                        0-1      10                 5  \n",
       "4                        0-1       5                 5  \n",
       "...                      ...     ...               ...  \n",
       "1975                     0-1     601                22  \n",
       "1976                     0-1      25                 4  \n",
       "1977                     0-1       2                 5  \n",
       "1978                     0-1       2                 7  \n",
       "1979                     0-1     220                10  \n",
       "\n",
       "[1980 rows x 22 columns]"
      ]
     },
     "execution_count": 4,
     "metadata": {},
     "output_type": "execute_result"
    }
   ],
   "source": [
    "df"
   ]
  },
  {
   "cell_type": "markdown",
   "id": "553de120",
   "metadata": {},
   "source": [
    "# DATA CLEANING"
   ]
  },
  {
   "cell_type": "code",
   "execution_count": 5,
   "id": "f451ed11",
   "metadata": {},
   "outputs": [],
   "source": [
    "df=df.drop(['links','Price'], axis = 1) ## To removed un nessary columns"
   ]
  },
  {
   "cell_type": "code",
   "execution_count": 10,
   "id": "faff127a",
   "metadata": {},
   "outputs": [
    {
     "data": {
      "text/html": [
       "<div>\n",
       "<style scoped>\n",
       "    .dataframe tbody tr th:only-of-type {\n",
       "        vertical-align: middle;\n",
       "    }\n",
       "\n",
       "    .dataframe tbody tr th {\n",
       "        vertical-align: top;\n",
       "    }\n",
       "\n",
       "    .dataframe thead th {\n",
       "        text-align: right;\n",
       "    }\n",
       "</style>\n",
       "<table border=\"1\" class=\"dataframe\">\n",
       "  <thead>\n",
       "    <tr style=\"text-align: right;\">\n",
       "      <th></th>\n",
       "      <th>price</th>\n",
       "      <th>Last Updated</th>\n",
       "      <th>Listing Type</th>\n",
       "      <th>Property Type</th>\n",
       "      <th>Building Type</th>\n",
       "      <th>City</th>\n",
       "      <th>Locality</th>\n",
       "      <th>Area</th>\n",
       "      <th>Possession Status</th>\n",
       "      <th>Furnishing Status</th>\n",
       "      <th>Number of Rooms</th>\n",
       "      <th>Number of Bathroom</th>\n",
       "      <th>Number of Parking</th>\n",
       "      <th>View /Facing</th>\n",
       "      <th>Floor No.</th>\n",
       "      <th>Tower/Block</th>\n",
       "      <th>Additional Rooms</th>\n",
       "      <th>Age of Property (Years)</th>\n",
       "      <th>Unit No</th>\n",
       "      <th>Total Floor Count</th>\n",
       "    </tr>\n",
       "  </thead>\n",
       "  <tbody>\n",
       "    <tr>\n",
       "      <th>0</th>\n",
       "      <td>1.04 Cr.</td>\n",
       "      <td>20 Apr 2022</td>\n",
       "      <td>Sale</td>\n",
       "      <td>Residential</td>\n",
       "      <td>Apartment</td>\n",
       "      <td>Hyderabad</td>\n",
       "      <td>Miyapur</td>\n",
       "      <td>1680 Sq.Ft. (Built-up Area)</td>\n",
       "      <td>Ready To Move</td>\n",
       "      <td>Semi-Furnished</td>\n",
       "      <td>3</td>\n",
       "      <td>2</td>\n",
       "      <td>2</td>\n",
       "      <td>North</td>\n",
       "      <td>2</td>\n",
       "      <td>1</td>\n",
       "      <td>Pooja Room,Study Room,Extra Room</td>\n",
       "      <td>0-1</td>\n",
       "      <td>1</td>\n",
       "      <td>5</td>\n",
       "    </tr>\n",
       "    <tr>\n",
       "      <th>1</th>\n",
       "      <td>1.04 Cr.</td>\n",
       "      <td>03 May 2022</td>\n",
       "      <td>Sale</td>\n",
       "      <td>Residential</td>\n",
       "      <td>Apartment</td>\n",
       "      <td>Hyderabad</td>\n",
       "      <td>Kondapur</td>\n",
       "      <td>1600 Sq.Ft. (Built-up Area)</td>\n",
       "      <td>Ready To Move</td>\n",
       "      <td>Unfurnished</td>\n",
       "      <td>3</td>\n",
       "      <td>3</td>\n",
       "      <td>1</td>\n",
       "      <td>West</td>\n",
       "      <td>2</td>\n",
       "      <td>1</td>\n",
       "      <td>Pooja Room,Study Room</td>\n",
       "      <td>0-1</td>\n",
       "      <td>202</td>\n",
       "      <td>5</td>\n",
       "    </tr>\n",
       "    <tr>\n",
       "      <th>2</th>\n",
       "      <td>69.46 Lac</td>\n",
       "      <td>28 Apr 2022</td>\n",
       "      <td>Sale</td>\n",
       "      <td>Residential</td>\n",
       "      <td>Apartment</td>\n",
       "      <td>Hyderabad</td>\n",
       "      <td>Kollur</td>\n",
       "      <td>1579 Sq.Ft. (Built-up Area)</td>\n",
       "      <td>Under Construction</td>\n",
       "      <td>Unfurnished</td>\n",
       "      <td>3</td>\n",
       "      <td>3</td>\n",
       "      <td>2</td>\n",
       "      <td>East</td>\n",
       "      <td>7</td>\n",
       "      <td>3</td>\n",
       "      <td>Pooja Room</td>\n",
       "      <td>0-1</td>\n",
       "      <td>95</td>\n",
       "      <td>15</td>\n",
       "    </tr>\n",
       "    <tr>\n",
       "      <th>3</th>\n",
       "      <td>1.13 Cr.</td>\n",
       "      <td>29 Apr 2022</td>\n",
       "      <td>Sale</td>\n",
       "      <td>Residential</td>\n",
       "      <td>Apartment</td>\n",
       "      <td>Hyderabad</td>\n",
       "      <td>Kondapur</td>\n",
       "      <td>1515 Sq.Ft. (Built-up Area)</td>\n",
       "      <td>Ready To Move</td>\n",
       "      <td>Unfurnished</td>\n",
       "      <td>3</td>\n",
       "      <td>2</td>\n",
       "      <td>1</td>\n",
       "      <td>East</td>\n",
       "      <td>5</td>\n",
       "      <td>1</td>\n",
       "      <td>Pooja Room</td>\n",
       "      <td>0-1</td>\n",
       "      <td>10</td>\n",
       "      <td>5</td>\n",
       "    </tr>\n",
       "    <tr>\n",
       "      <th>4</th>\n",
       "      <td>46 Lac</td>\n",
       "      <td>29 Apr 2022</td>\n",
       "      <td>Sale</td>\n",
       "      <td>Residential</td>\n",
       "      <td>Apartment</td>\n",
       "      <td>Hyderabad</td>\n",
       "      <td>Tolichowki</td>\n",
       "      <td>1100 Sq.Ft. (Built-up Area)</td>\n",
       "      <td>Ready To Move</td>\n",
       "      <td>Unfurnished</td>\n",
       "      <td>2</td>\n",
       "      <td>2</td>\n",
       "      <td>1</td>\n",
       "      <td>East</td>\n",
       "      <td>2</td>\n",
       "      <td>A</td>\n",
       "      <td>Servant Room</td>\n",
       "      <td>0-1</td>\n",
       "      <td>5</td>\n",
       "      <td>5</td>\n",
       "    </tr>\n",
       "    <tr>\n",
       "      <th>...</th>\n",
       "      <td>...</td>\n",
       "      <td>...</td>\n",
       "      <td>...</td>\n",
       "      <td>...</td>\n",
       "      <td>...</td>\n",
       "      <td>...</td>\n",
       "      <td>...</td>\n",
       "      <td>...</td>\n",
       "      <td>...</td>\n",
       "      <td>...</td>\n",
       "      <td>...</td>\n",
       "      <td>...</td>\n",
       "      <td>...</td>\n",
       "      <td>...</td>\n",
       "      <td>...</td>\n",
       "      <td>...</td>\n",
       "      <td>...</td>\n",
       "      <td>...</td>\n",
       "      <td>...</td>\n",
       "      <td>...</td>\n",
       "    </tr>\n",
       "    <tr>\n",
       "      <th>1975</th>\n",
       "      <td>63.25 Lac</td>\n",
       "      <td>14 Jul 2021</td>\n",
       "      <td>Sale</td>\n",
       "      <td>Residential</td>\n",
       "      <td>Apartment</td>\n",
       "      <td>Hyderabad</td>\n",
       "      <td>Bachupally</td>\n",
       "      <td>1150 Sq.Ft. (Built-up Area)</td>\n",
       "      <td>Under Construction</td>\n",
       "      <td>Unfurnished</td>\n",
       "      <td>2</td>\n",
       "      <td>2</td>\n",
       "      <td>1</td>\n",
       "      <td>East</td>\n",
       "      <td>6</td>\n",
       "      <td>A</td>\n",
       "      <td>Pooja Room</td>\n",
       "      <td>0-1</td>\n",
       "      <td>601</td>\n",
       "      <td>22</td>\n",
       "    </tr>\n",
       "    <tr>\n",
       "      <th>1976</th>\n",
       "      <td>26.62 Lac</td>\n",
       "      <td>09 Nov 2021</td>\n",
       "      <td>Sale</td>\n",
       "      <td>Residential</td>\n",
       "      <td>Apartment</td>\n",
       "      <td>Hyderabad</td>\n",
       "      <td>Isnapur</td>\n",
       "      <td>1110 Sq.Ft. (Built-up Area)</td>\n",
       "      <td>Under Construction</td>\n",
       "      <td>Unfurnished</td>\n",
       "      <td>2</td>\n",
       "      <td>2</td>\n",
       "      <td>2</td>\n",
       "      <td>South</td>\n",
       "      <td>2</td>\n",
       "      <td>2</td>\n",
       "      <td>Pooja Room,Study Room</td>\n",
       "      <td>0-1</td>\n",
       "      <td>25</td>\n",
       "      <td>4</td>\n",
       "    </tr>\n",
       "    <tr>\n",
       "      <th>1977</th>\n",
       "      <td>36.32 Lac</td>\n",
       "      <td>02 Dec 2021</td>\n",
       "      <td>Sale</td>\n",
       "      <td>Residential</td>\n",
       "      <td>Apartment</td>\n",
       "      <td>Hyderabad</td>\n",
       "      <td>Bandlaguda</td>\n",
       "      <td>1130 Sq.Ft. (Built-up Area)</td>\n",
       "      <td>Under Construction</td>\n",
       "      <td>Unfurnished</td>\n",
       "      <td>3</td>\n",
       "      <td>2</td>\n",
       "      <td>1</td>\n",
       "      <td>North</td>\n",
       "      <td>6</td>\n",
       "      <td>27</td>\n",
       "      <td>Extra Room</td>\n",
       "      <td>0-1</td>\n",
       "      <td>2</td>\n",
       "      <td>5</td>\n",
       "    </tr>\n",
       "    <tr>\n",
       "      <th>1978</th>\n",
       "      <td>71.06 Lac</td>\n",
       "      <td>08 Dec 2021</td>\n",
       "      <td>Sale</td>\n",
       "      <td>Residential</td>\n",
       "      <td>Apartment</td>\n",
       "      <td>Hyderabad</td>\n",
       "      <td>Pragathi Nagar</td>\n",
       "      <td>1292 Sq.Ft. (Built-up Area)</td>\n",
       "      <td>Ready To Move</td>\n",
       "      <td>Unfurnished</td>\n",
       "      <td>2</td>\n",
       "      <td>2</td>\n",
       "      <td>2</td>\n",
       "      <td>East</td>\n",
       "      <td>1</td>\n",
       "      <td>2</td>\n",
       "      <td>Pooja Room</td>\n",
       "      <td>0-1</td>\n",
       "      <td>2</td>\n",
       "      <td>7</td>\n",
       "    </tr>\n",
       "    <tr>\n",
       "      <th>1979</th>\n",
       "      <td>55 Lac</td>\n",
       "      <td>07 Dec 2021</td>\n",
       "      <td>Sale</td>\n",
       "      <td>Residential</td>\n",
       "      <td>Apartment</td>\n",
       "      <td>Hyderabad</td>\n",
       "      <td>Suraram Colony</td>\n",
       "      <td>1250 Sq.Ft. (Built-up Area)</td>\n",
       "      <td>Ready To Move</td>\n",
       "      <td>Unfurnished</td>\n",
       "      <td>2</td>\n",
       "      <td>2</td>\n",
       "      <td>1</td>\n",
       "      <td>East</td>\n",
       "      <td>2</td>\n",
       "      <td>a</td>\n",
       "      <td>Pooja Room,Study Room,Extra Room</td>\n",
       "      <td>0-1</td>\n",
       "      <td>220</td>\n",
       "      <td>10</td>\n",
       "    </tr>\n",
       "  </tbody>\n",
       "</table>\n",
       "<p>1980 rows × 20 columns</p>\n",
       "</div>"
      ],
      "text/plain": [
       "           price Last Updated Listing Type Property Type Building Type  \\\n",
       "0       1.04 Cr.  20 Apr 2022         Sale   Residential     Apartment   \n",
       "1       1.04 Cr.  03 May 2022         Sale   Residential     Apartment   \n",
       "2      69.46 Lac  28 Apr 2022         Sale   Residential     Apartment   \n",
       "3       1.13 Cr.  29 Apr 2022         Sale   Residential     Apartment   \n",
       "4         46 Lac  29 Apr 2022         Sale   Residential     Apartment   \n",
       "...          ...          ...          ...           ...           ...   \n",
       "1975   63.25 Lac  14 Jul 2021         Sale   Residential     Apartment   \n",
       "1976   26.62 Lac  09 Nov 2021         Sale   Residential     Apartment   \n",
       "1977   36.32 Lac  02 Dec 2021         Sale   Residential     Apartment   \n",
       "1978   71.06 Lac  08 Dec 2021         Sale   Residential     Apartment   \n",
       "1979      55 Lac  07 Dec 2021         Sale   Residential     Apartment   \n",
       "\n",
       "           City        Locality                         Area  \\\n",
       "0     Hyderabad         Miyapur  1680 Sq.Ft. (Built-up Area)   \n",
       "1     Hyderabad        Kondapur  1600 Sq.Ft. (Built-up Area)   \n",
       "2     Hyderabad          Kollur  1579 Sq.Ft. (Built-up Area)   \n",
       "3     Hyderabad        Kondapur  1515 Sq.Ft. (Built-up Area)   \n",
       "4     Hyderabad      Tolichowki  1100 Sq.Ft. (Built-up Area)   \n",
       "...         ...             ...                          ...   \n",
       "1975  Hyderabad      Bachupally  1150 Sq.Ft. (Built-up Area)   \n",
       "1976  Hyderabad         Isnapur  1110 Sq.Ft. (Built-up Area)   \n",
       "1977  Hyderabad      Bandlaguda  1130 Sq.Ft. (Built-up Area)   \n",
       "1978  Hyderabad  Pragathi Nagar  1292 Sq.Ft. (Built-up Area)   \n",
       "1979  Hyderabad  Suraram Colony  1250 Sq.Ft. (Built-up Area)   \n",
       "\n",
       "       Possession Status Furnishing Status  Number of Rooms  \\\n",
       "0          Ready To Move    Semi-Furnished                3   \n",
       "1          Ready To Move       Unfurnished                3   \n",
       "2     Under Construction       Unfurnished                3   \n",
       "3          Ready To Move       Unfurnished                3   \n",
       "4          Ready To Move       Unfurnished                2   \n",
       "...                  ...               ...              ...   \n",
       "1975  Under Construction       Unfurnished                2   \n",
       "1976  Under Construction       Unfurnished                2   \n",
       "1977  Under Construction       Unfurnished                3   \n",
       "1978       Ready To Move       Unfurnished                2   \n",
       "1979       Ready To Move       Unfurnished                2   \n",
       "\n",
       "      Number of Bathroom Number of Parking View /Facing Floor No. Tower/Block  \\\n",
       "0                      2                 2        North         2           1   \n",
       "1                      3                 1         West         2           1   \n",
       "2                      3                 2         East         7           3   \n",
       "3                      2                 1         East         5           1   \n",
       "4                      2                 1         East         2           A   \n",
       "...                  ...               ...          ...       ...         ...   \n",
       "1975                   2                 1         East         6           A   \n",
       "1976                   2                 2        South         2           2   \n",
       "1977                   2                 1        North         6          27   \n",
       "1978                   2                 2         East         1           2   \n",
       "1979                   2                 1         East         2           a   \n",
       "\n",
       "                      Additional Rooms Age of Property (Years) Unit No  \\\n",
       "0     Pooja Room,Study Room,Extra Room                     0-1       1   \n",
       "1                Pooja Room,Study Room                     0-1     202   \n",
       "2                           Pooja Room                     0-1      95   \n",
       "3                           Pooja Room                     0-1      10   \n",
       "4                         Servant Room                     0-1       5   \n",
       "...                                ...                     ...     ...   \n",
       "1975                        Pooja Room                     0-1     601   \n",
       "1976             Pooja Room,Study Room                     0-1      25   \n",
       "1977                        Extra Room                     0-1       2   \n",
       "1978                        Pooja Room                     0-1       2   \n",
       "1979  Pooja Room,Study Room,Extra Room                     0-1     220   \n",
       "\n",
       "     Total Floor Count  \n",
       "0                    5  \n",
       "1                    5  \n",
       "2                   15  \n",
       "3                    5  \n",
       "4                    5  \n",
       "...                ...  \n",
       "1975                22  \n",
       "1976                 4  \n",
       "1977                 5  \n",
       "1978                 7  \n",
       "1979                10  \n",
       "\n",
       "[1980 rows x 20 columns]"
      ]
     },
     "execution_count": 10,
     "metadata": {},
     "output_type": "execute_result"
    }
   ],
   "source": [
    "df['price'] = df['price'].str.replace(',', '')\n",
    "\n",
    "df['price'] = df['price'].str.replace('₹', '')\n",
    "df['price']\n",
    "df                                                      ## removing symbols & ,\"\""
   ]
  },
  {
   "cell_type": "code",
   "execution_count": 11,
   "id": "6c521056",
   "metadata": {},
   "outputs": [
    {
     "data": {
      "text/plain": [
       "['1.04', 'Cr']"
      ]
     },
     "execution_count": 11,
     "metadata": {},
     "output_type": "execute_result"
    }
   ],
   "source": [
    "df['price'][0].strip().strip(\".\").split(\" \")"
   ]
  },
  {
   "cell_type": "code",
   "execution_count": 12,
   "id": "c0c21204",
   "metadata": {},
   "outputs": [],
   "source": [
    "\n",
    "for i in range(len(df.price)):\n",
    "    try:\n",
    "        splits=df['price'][i].strip().strip(\".\").split(\" \")\n",
    "        # print(i,splits)\n",
    "        if splits[1]=='cr'or splits[1]=='Cr':\n",
    "            df['price'][i]=float(splits[0])*100\n",
    "        else:\n",
    "            df['price'][i]=float(splits[0])\n",
    "    except:\n",
    "        continue"
   ]
  },
  {
   "cell_type": "code",
   "execution_count": 13,
   "id": "21af9af8",
   "metadata": {},
   "outputs": [
    {
     "data": {
      "text/plain": [
       "0       104.0\n",
       "1       104.0\n",
       "2       69.46\n",
       "3       113.0\n",
       "4        46.0\n",
       "        ...  \n",
       "1975    63.25\n",
       "1976    26.62\n",
       "1977    36.32\n",
       "1978    71.06\n",
       "1979     55.0\n",
       "Name: price, Length: 1980, dtype: object"
      ]
     },
     "execution_count": 13,
     "metadata": {},
     "output_type": "execute_result"
    }
   ],
   "source": [
    "df.price"
   ]
  },
  {
   "cell_type": "code",
   "execution_count": 14,
   "id": "0305b6f6",
   "metadata": {},
   "outputs": [
    {
     "data": {
      "text/plain": [
       "1200 Sq.Ft. (Built-up Area)    130\n",
       "1100 Sq.Ft. (Built-up Area)    107\n",
       "1150 Sq.Ft. (Built-up Area)     99\n",
       "1450 Sq.Ft. (Built-up Area)     82\n",
       "1250 Sq.Ft. (Built-up Area)     80\n",
       "                              ... \n",
       "2980 Sq.Ft. (Built-up Area)      1\n",
       "2323 Sq.Ft. (Built-up Area)      1\n",
       "1820 Sq.Ft. (Built-up Area)      1\n",
       "1353 Sq.Ft. (Saleable Area)      1\n",
       "2450 Sq.Ft. (Built-up Area)      1\n",
       "Name: Area, Length: 512, dtype: int64"
      ]
     },
     "execution_count": 14,
     "metadata": {},
     "output_type": "execute_result"
    }
   ],
   "source": [
    "df.Area.value_counts()"
   ]
  },
  {
   "cell_type": "code",
   "execution_count": 15,
   "id": "b2fdd891",
   "metadata": {},
   "outputs": [
    {
     "name": "stdout",
     "output_type": "stream",
     "text": [
      "price \n",
      " 39.15    52\n",
      "60.00    49\n",
      "70.00    44\n",
      "65.00    35\n",
      "48.00    32\n",
      "         ..\n",
      "96.52     1\n",
      "79.20     1\n",
      "30.14     1\n",
      "83.75     1\n",
      "50.85     1\n",
      "Name: price, Length: 704, dtype: int64\n",
      "Last Updated \n",
      " 21 Feb 2022    54\n",
      "04 Mar 2022    45\n",
      "19 Mar 2022    39\n",
      "22 Mar 2022    35\n",
      "28 Feb 2022    34\n",
      "               ..\n",
      "13 Jul 2021     1\n",
      "07 May 2022     1\n",
      "24 Jul 2021     1\n",
      "07 Feb 2022     1\n",
      "06 Mar 2022     1\n",
      "Name: Last Updated, Length: 203, dtype: int64\n",
      "Listing Type \n",
      " Sale    1980\n",
      "Name: Listing Type, dtype: int64\n",
      "Property Type \n",
      " Residential    1980\n",
      "Name: Property Type, dtype: int64\n",
      "Building Type \n",
      " Apartment    1980\n",
      "Name: Building Type, dtype: int64\n",
      "City \n",
      " Hyderabad    1980\n",
      "Name: City, dtype: int64\n",
      "Locality \n",
      " Bacharam                162\n",
      "Bachupally              150\n",
      "Kompally                106\n",
      "Miyapur                  95\n",
      "Bowrampet                88\n",
      "                       ... \n",
      "Langar House              1\n",
      "Bongloor                  1\n",
      "Narayanguda               1\n",
      "Sanjeeva Reddy Nagar      1\n",
      "Srinagar Colony           1\n",
      "Name: Locality, Length: 185, dtype: int64\n",
      "Area \n",
      " 1200 Sq.Ft. (Built-up Area)    130\n",
      "1100 Sq.Ft. (Built-up Area)    107\n",
      "1150 Sq.Ft. (Built-up Area)     99\n",
      "1450 Sq.Ft. (Built-up Area)     82\n",
      "1250 Sq.Ft. (Built-up Area)     80\n",
      "                              ... \n",
      "2980 Sq.Ft. (Built-up Area)      1\n",
      "2323 Sq.Ft. (Built-up Area)      1\n",
      "1820 Sq.Ft. (Built-up Area)      1\n",
      "1353 Sq.Ft. (Saleable Area)      1\n",
      "2450 Sq.Ft. (Built-up Area)      1\n",
      "Name: Area, Length: 512, dtype: int64\n",
      "Possession Status \n",
      " Under Construction    1027\n",
      "Ready To Move          953\n",
      "Name: Possession Status, dtype: int64\n",
      "Furnishing Status \n",
      " Unfurnished       1383\n",
      "Semi-Furnished     505\n",
      "Furnished           92\n",
      "Name: Furnishing Status, dtype: int64\n",
      "Number of Parking \n",
      " 1     1385\n",
      "2      532\n",
      "3       49\n",
      "4       10\n",
      "5        3\n",
      "6+       1\n",
      "Name: Number of Parking, dtype: int64\n",
      "View /Facing \n",
      " East              1266\n",
      "West               241\n",
      "North              188\n",
      "North East         101\n",
      "North West          60\n",
      "South               36\n",
      "South East          26\n",
      "Park Facing         24\n",
      "South West          16\n",
      "Garden Facing        9\n",
      "Golf Course          5\n",
      "Road View            3\n",
      "Lake View            2\n",
      "Garden View          1\n",
      "Beach View           1\n",
      "Community View       1\n",
      "Name: View /Facing, dtype: int64\n",
      "Floor No. \n",
      " 2      411\n",
      "3      390\n",
      "4      289\n",
      "1      245\n",
      "5      230\n",
      "      ... \n",
      "231      1\n",
      "15       1\n",
      "419      1\n",
      "27       1\n",
      "502      1\n",
      "Name: Floor No., Length: 110, dtype: int64\n",
      "Tower/Block \n",
      " 1          509\n",
      "A          230\n",
      "2          165\n",
      "a          157\n",
      "B          103\n",
      "          ... \n",
      "mounika      1\n",
      "32           1\n",
      "BLOCK A      1\n",
      "A 10         1\n",
      "logan        1\n",
      "Name: Tower/Block, Length: 118, dtype: int64\n",
      "Additional Rooms \n",
      " Pooja Room                                       1403\n",
      "Pooja Room,Study Room                             137\n",
      "Extra Room                                         99\n",
      "Study Room                                         83\n",
      "Pooja Room,Study Room,Extra Room                   69\n",
      "Pooja Room,Servant Room,Study Room                 43\n",
      "Servant Room                                       40\n",
      "Pooja Room,Servant Room,Study Room,Extra Room      30\n",
      "Pooja Room,Servant Room                            26\n",
      "Pooja Room,Extra Room                              25\n",
      "Study Room,Extra Room                              16\n",
      "Servant Room,Study Room                             4\n",
      "Pooja Room,Servant Room,Extra Room                  3\n",
      "Servant Room,Study Room,Extra Room                  2\n",
      "Name: Additional Rooms, dtype: int64\n",
      "Age of Property (Years) \n",
      " 0-1     1630\n",
      "2-4      268\n",
      "5-7       45\n",
      "10+       20\n",
      "8-10      17\n",
      "Name: Age of Property (Years), dtype: int64\n",
      "Unit No \n",
      " 1       372\n",
      "600      91\n",
      "2        66\n",
      "20       63\n",
      "60       53\n",
      "       ... \n",
      "05        1\n",
      "640       1\n",
      "637       1\n",
      "2332      1\n",
      "355       1\n",
      "Name: Unit No, Length: 371, dtype: int64\n",
      "Total Floor Count \n",
      " 5          822\n",
      "9          156\n",
      "10         103\n",
      "6           99\n",
      "4           94\n",
      "          ... \n",
      "g+11         1\n",
      "g 9          1\n",
      "1 to 10      1\n",
      "C            1\n",
      "36           1\n",
      "Name: Total Floor Count, Length: 75, dtype: int64\n"
     ]
    }
   ],
   "source": [
    "for i in df:\n",
    "    if df[i].dtype=='object':\n",
    "        print(df[i].name, \"\\n\",df[i].value_counts())"
   ]
  },
  {
   "cell_type": "code",
   "execution_count": 16,
   "id": "627cf2fe",
   "metadata": {},
   "outputs": [],
   "source": [
    "### removing Sq.Ft. (Built-up Area) in data\n",
    "df['Area']=df['Area'].replace(to_replace='''[SFBAabcdefghijklmnopqrstuvwxy,z.!\"₹#$%&'()*+,/:;<=>?@[\\]^_`{|}~]''',value=\"\",regex=True)\n",
    "df['Area']=df['Area'].replace(to_replace='-',value='',regex=True)"
   ]
  },
  {
   "cell_type": "code",
   "execution_count": 17,
   "id": "3be321ae",
   "metadata": {},
   "outputs": [
    {
     "data": {
      "text/plain": [
       "0       1680   \n",
       "1       1600   \n",
       "2       1579   \n",
       "3       1515   \n",
       "4       1100   \n",
       "         ...   \n",
       "1975    1150   \n",
       "1976    1110   \n",
       "1977    1130   \n",
       "1978    1292   \n",
       "1979    1250   \n",
       "Name: Area, Length: 1980, dtype: object"
      ]
     },
     "execution_count": 17,
     "metadata": {},
     "output_type": "execute_result"
    }
   ],
   "source": [
    "df[\"Area\"]"
   ]
  },
  {
   "cell_type": "code",
   "execution_count": 18,
   "id": "96fec1b5",
   "metadata": {},
   "outputs": [
    {
     "data": {
      "text/plain": [
       "Index(['price', 'Last Updated', 'Listing Type', 'Property Type',\n",
       "       'Building Type', 'City', 'Locality', 'Area', 'Possession Status',\n",
       "       'Furnishing Status', 'Number of Rooms', 'Number of Bathroom',\n",
       "       'Number of Parking', 'View /Facing', 'Floor No.', 'Tower/Block',\n",
       "       'Additional Rooms', 'Age of Property (Years)', 'Unit No',\n",
       "       'Total Floor Count'],\n",
       "      dtype='object')"
      ]
     },
     "execution_count": 18,
     "metadata": {},
     "output_type": "execute_result"
    }
   ],
   "source": [
    "df.columns"
   ]
  },
  {
   "cell_type": "code",
   "execution_count": 19,
   "id": "a42b3bc5",
   "metadata": {},
   "outputs": [
    {
     "data": {
      "text/plain": [
       "0       False\n",
       "1       False\n",
       "2       False\n",
       "3       False\n",
       "4       False\n",
       "        ...  \n",
       "1975    False\n",
       "1976    False\n",
       "1977    False\n",
       "1978    False\n",
       "1979    False\n",
       "Name: Area, Length: 1980, dtype: bool"
      ]
     },
     "execution_count": 19,
     "metadata": {},
     "output_type": "execute_result"
    }
   ],
   "source": [
    "df['Area'].str.contains(r'[a-zA-Z]')"
   ]
  },
  {
   "cell_type": "code",
   "execution_count": 20,
   "id": "b6632458",
   "metadata": {},
   "outputs": [],
   "source": [
    "df['Area']=df['Area'].str.strip().replace(\"[a-zA-Z]\",\"\",regex=True) #removing specialcheristrics in colum\n"
   ]
  },
  {
   "cell_type": "code",
   "execution_count": 21,
   "id": "8f48f5e4",
   "metadata": {},
   "outputs": [],
   "source": [
    "df['Area']=pd.to_numeric(df['Area'])"
   ]
  },
  {
   "cell_type": "code",
   "execution_count": 22,
   "id": "1ce82189",
   "metadata": {},
   "outputs": [
    {
     "data": {
      "text/plain": [
       "dtype('int64')"
      ]
     },
     "execution_count": 22,
     "metadata": {},
     "output_type": "execute_result"
    }
   ],
   "source": [
    "df['Area'].dtype"
   ]
  },
  {
   "cell_type": "code",
   "execution_count": 23,
   "id": "9f5ef473",
   "metadata": {},
   "outputs": [],
   "source": [
    "df['Floor No.']=df['Floor No.'].replace(to_replace='''[SFBAabcdefghijklmnopqrstuvwxy,z.!\"₹#$%&'()*+,/:;<=>?@[\\]^_`{|}~]''',value=\"\",regex=True)\n",
    "df['Floor No.']=df['Floor No.'].replace(to_replace='-',value='',regex=True)"
   ]
  },
  {
   "cell_type": "code",
   "execution_count": 24,
   "id": "49002cf7",
   "metadata": {},
   "outputs": [],
   "source": [
    "df['Total Floor Count']=df['Total Floor Count'].replace(to_replace='''[SFBAabcCdefgGhijklmnopqrstuvwxy,z.!\"₹#$%&'()*+,/:;<=>?@[\\]^_`{|}~]''',value=\"\",regex=True)\n",
    "df['Total Floor Count']=df['Total Floor Count'].replace(to_replace='-',value='',regex=True)"
   ]
  },
  {
   "cell_type": "code",
   "execution_count": null,
   "id": "24d8d811",
   "metadata": {},
   "outputs": [],
   "source": []
  },
  {
   "cell_type": "code",
   "execution_count": 25,
   "id": "1743949e",
   "metadata": {},
   "outputs": [],
   "source": [
    "df=df.drop(['Building Type','City','Last Updated','Listing Type','Property Type','Tower/Block'], axis = 1) ## To removed un nessary columns"
   ]
  },
  {
   "cell_type": "code",
   "execution_count": 26,
   "id": "a5f6c992",
   "metadata": {},
   "outputs": [
    {
     "data": {
      "text/html": [
       "<div>\n",
       "<style scoped>\n",
       "    .dataframe tbody tr th:only-of-type {\n",
       "        vertical-align: middle;\n",
       "    }\n",
       "\n",
       "    .dataframe tbody tr th {\n",
       "        vertical-align: top;\n",
       "    }\n",
       "\n",
       "    .dataframe thead th {\n",
       "        text-align: right;\n",
       "    }\n",
       "</style>\n",
       "<table border=\"1\" class=\"dataframe\">\n",
       "  <thead>\n",
       "    <tr style=\"text-align: right;\">\n",
       "      <th></th>\n",
       "      <th>price</th>\n",
       "      <th>Locality</th>\n",
       "      <th>Area</th>\n",
       "      <th>Possession Status</th>\n",
       "      <th>Furnishing Status</th>\n",
       "      <th>Number of Rooms</th>\n",
       "      <th>Number of Bathroom</th>\n",
       "      <th>Number of Parking</th>\n",
       "      <th>View /Facing</th>\n",
       "      <th>Floor No.</th>\n",
       "      <th>Additional Rooms</th>\n",
       "      <th>Age of Property (Years)</th>\n",
       "      <th>Unit No</th>\n",
       "      <th>Total Floor Count</th>\n",
       "    </tr>\n",
       "  </thead>\n",
       "  <tbody>\n",
       "    <tr>\n",
       "      <th>0</th>\n",
       "      <td>104.0</td>\n",
       "      <td>Miyapur</td>\n",
       "      <td>1680</td>\n",
       "      <td>Ready To Move</td>\n",
       "      <td>Semi-Furnished</td>\n",
       "      <td>3</td>\n",
       "      <td>2</td>\n",
       "      <td>2</td>\n",
       "      <td>North</td>\n",
       "      <td>2</td>\n",
       "      <td>Pooja Room,Study Room,Extra Room</td>\n",
       "      <td>0-1</td>\n",
       "      <td>1</td>\n",
       "      <td>5</td>\n",
       "    </tr>\n",
       "    <tr>\n",
       "      <th>1</th>\n",
       "      <td>104.0</td>\n",
       "      <td>Kondapur</td>\n",
       "      <td>1600</td>\n",
       "      <td>Ready To Move</td>\n",
       "      <td>Unfurnished</td>\n",
       "      <td>3</td>\n",
       "      <td>3</td>\n",
       "      <td>1</td>\n",
       "      <td>West</td>\n",
       "      <td>2</td>\n",
       "      <td>Pooja Room,Study Room</td>\n",
       "      <td>0-1</td>\n",
       "      <td>202</td>\n",
       "      <td>5</td>\n",
       "    </tr>\n",
       "    <tr>\n",
       "      <th>2</th>\n",
       "      <td>69.46</td>\n",
       "      <td>Kollur</td>\n",
       "      <td>1579</td>\n",
       "      <td>Under Construction</td>\n",
       "      <td>Unfurnished</td>\n",
       "      <td>3</td>\n",
       "      <td>3</td>\n",
       "      <td>2</td>\n",
       "      <td>East</td>\n",
       "      <td>7</td>\n",
       "      <td>Pooja Room</td>\n",
       "      <td>0-1</td>\n",
       "      <td>95</td>\n",
       "      <td>15</td>\n",
       "    </tr>\n",
       "    <tr>\n",
       "      <th>3</th>\n",
       "      <td>113.0</td>\n",
       "      <td>Kondapur</td>\n",
       "      <td>1515</td>\n",
       "      <td>Ready To Move</td>\n",
       "      <td>Unfurnished</td>\n",
       "      <td>3</td>\n",
       "      <td>2</td>\n",
       "      <td>1</td>\n",
       "      <td>East</td>\n",
       "      <td>5</td>\n",
       "      <td>Pooja Room</td>\n",
       "      <td>0-1</td>\n",
       "      <td>10</td>\n",
       "      <td>5</td>\n",
       "    </tr>\n",
       "    <tr>\n",
       "      <th>4</th>\n",
       "      <td>46.0</td>\n",
       "      <td>Tolichowki</td>\n",
       "      <td>1100</td>\n",
       "      <td>Ready To Move</td>\n",
       "      <td>Unfurnished</td>\n",
       "      <td>2</td>\n",
       "      <td>2</td>\n",
       "      <td>1</td>\n",
       "      <td>East</td>\n",
       "      <td>2</td>\n",
       "      <td>Servant Room</td>\n",
       "      <td>0-1</td>\n",
       "      <td>5</td>\n",
       "      <td>5</td>\n",
       "    </tr>\n",
       "    <tr>\n",
       "      <th>...</th>\n",
       "      <td>...</td>\n",
       "      <td>...</td>\n",
       "      <td>...</td>\n",
       "      <td>...</td>\n",
       "      <td>...</td>\n",
       "      <td>...</td>\n",
       "      <td>...</td>\n",
       "      <td>...</td>\n",
       "      <td>...</td>\n",
       "      <td>...</td>\n",
       "      <td>...</td>\n",
       "      <td>...</td>\n",
       "      <td>...</td>\n",
       "      <td>...</td>\n",
       "    </tr>\n",
       "    <tr>\n",
       "      <th>1975</th>\n",
       "      <td>63.25</td>\n",
       "      <td>Bachupally</td>\n",
       "      <td>1150</td>\n",
       "      <td>Under Construction</td>\n",
       "      <td>Unfurnished</td>\n",
       "      <td>2</td>\n",
       "      <td>2</td>\n",
       "      <td>1</td>\n",
       "      <td>East</td>\n",
       "      <td>6</td>\n",
       "      <td>Pooja Room</td>\n",
       "      <td>0-1</td>\n",
       "      <td>601</td>\n",
       "      <td>22</td>\n",
       "    </tr>\n",
       "    <tr>\n",
       "      <th>1976</th>\n",
       "      <td>26.62</td>\n",
       "      <td>Isnapur</td>\n",
       "      <td>1110</td>\n",
       "      <td>Under Construction</td>\n",
       "      <td>Unfurnished</td>\n",
       "      <td>2</td>\n",
       "      <td>2</td>\n",
       "      <td>2</td>\n",
       "      <td>South</td>\n",
       "      <td>2</td>\n",
       "      <td>Pooja Room,Study Room</td>\n",
       "      <td>0-1</td>\n",
       "      <td>25</td>\n",
       "      <td>4</td>\n",
       "    </tr>\n",
       "    <tr>\n",
       "      <th>1977</th>\n",
       "      <td>36.32</td>\n",
       "      <td>Bandlaguda</td>\n",
       "      <td>1130</td>\n",
       "      <td>Under Construction</td>\n",
       "      <td>Unfurnished</td>\n",
       "      <td>3</td>\n",
       "      <td>2</td>\n",
       "      <td>1</td>\n",
       "      <td>North</td>\n",
       "      <td>6</td>\n",
       "      <td>Extra Room</td>\n",
       "      <td>0-1</td>\n",
       "      <td>2</td>\n",
       "      <td>5</td>\n",
       "    </tr>\n",
       "    <tr>\n",
       "      <th>1978</th>\n",
       "      <td>71.06</td>\n",
       "      <td>Pragathi Nagar</td>\n",
       "      <td>1292</td>\n",
       "      <td>Ready To Move</td>\n",
       "      <td>Unfurnished</td>\n",
       "      <td>2</td>\n",
       "      <td>2</td>\n",
       "      <td>2</td>\n",
       "      <td>East</td>\n",
       "      <td>1</td>\n",
       "      <td>Pooja Room</td>\n",
       "      <td>0-1</td>\n",
       "      <td>2</td>\n",
       "      <td>7</td>\n",
       "    </tr>\n",
       "    <tr>\n",
       "      <th>1979</th>\n",
       "      <td>55.0</td>\n",
       "      <td>Suraram Colony</td>\n",
       "      <td>1250</td>\n",
       "      <td>Ready To Move</td>\n",
       "      <td>Unfurnished</td>\n",
       "      <td>2</td>\n",
       "      <td>2</td>\n",
       "      <td>1</td>\n",
       "      <td>East</td>\n",
       "      <td>2</td>\n",
       "      <td>Pooja Room,Study Room,Extra Room</td>\n",
       "      <td>0-1</td>\n",
       "      <td>220</td>\n",
       "      <td>10</td>\n",
       "    </tr>\n",
       "  </tbody>\n",
       "</table>\n",
       "<p>1980 rows × 14 columns</p>\n",
       "</div>"
      ],
      "text/plain": [
       "      price        Locality  Area   Possession Status Furnishing Status  \\\n",
       "0     104.0         Miyapur  1680       Ready To Move    Semi-Furnished   \n",
       "1     104.0        Kondapur  1600       Ready To Move       Unfurnished   \n",
       "2     69.46          Kollur  1579  Under Construction       Unfurnished   \n",
       "3     113.0        Kondapur  1515       Ready To Move       Unfurnished   \n",
       "4      46.0      Tolichowki  1100       Ready To Move       Unfurnished   \n",
       "...     ...             ...   ...                 ...               ...   \n",
       "1975  63.25      Bachupally  1150  Under Construction       Unfurnished   \n",
       "1976  26.62         Isnapur  1110  Under Construction       Unfurnished   \n",
       "1977  36.32      Bandlaguda  1130  Under Construction       Unfurnished   \n",
       "1978  71.06  Pragathi Nagar  1292       Ready To Move       Unfurnished   \n",
       "1979   55.0  Suraram Colony  1250       Ready To Move       Unfurnished   \n",
       "\n",
       "      Number of Rooms  Number of Bathroom Number of Parking View /Facing  \\\n",
       "0                   3                   2                 2        North   \n",
       "1                   3                   3                 1         West   \n",
       "2                   3                   3                 2         East   \n",
       "3                   3                   2                 1         East   \n",
       "4                   2                   2                 1         East   \n",
       "...               ...                 ...               ...          ...   \n",
       "1975                2                   2                 1         East   \n",
       "1976                2                   2                 2        South   \n",
       "1977                3                   2                 1        North   \n",
       "1978                2                   2                 2         East   \n",
       "1979                2                   2                 1         East   \n",
       "\n",
       "     Floor No.                  Additional Rooms Age of Property (Years)  \\\n",
       "0            2  Pooja Room,Study Room,Extra Room                     0-1   \n",
       "1            2             Pooja Room,Study Room                     0-1   \n",
       "2            7                        Pooja Room                     0-1   \n",
       "3            5                        Pooja Room                     0-1   \n",
       "4            2                      Servant Room                     0-1   \n",
       "...        ...                               ...                     ...   \n",
       "1975         6                        Pooja Room                     0-1   \n",
       "1976         2             Pooja Room,Study Room                     0-1   \n",
       "1977         6                        Extra Room                     0-1   \n",
       "1978         1                        Pooja Room                     0-1   \n",
       "1979         2  Pooja Room,Study Room,Extra Room                     0-1   \n",
       "\n",
       "     Unit No Total Floor Count  \n",
       "0          1                 5  \n",
       "1        202                 5  \n",
       "2         95                15  \n",
       "3         10                 5  \n",
       "4          5                 5  \n",
       "...      ...               ...  \n",
       "1975     601                22  \n",
       "1976      25                 4  \n",
       "1977       2                 5  \n",
       "1978       2                 7  \n",
       "1979     220                10  \n",
       "\n",
       "[1980 rows x 14 columns]"
      ]
     },
     "execution_count": 26,
     "metadata": {},
     "output_type": "execute_result"
    }
   ],
   "source": [
    "df"
   ]
  },
  {
   "cell_type": "code",
   "execution_count": 27,
   "id": "31ff0ec3",
   "metadata": {},
   "outputs": [
    {
     "name": "stdout",
     "output_type": "stream",
     "text": [
      "<class 'pandas.core.frame.DataFrame'>\n",
      "RangeIndex: 1980 entries, 0 to 1979\n",
      "Data columns (total 14 columns):\n",
      " #   Column                   Non-Null Count  Dtype \n",
      "---  ------                   --------------  ----- \n",
      " 0   price                    1980 non-null   object\n",
      " 1   Locality                 1980 non-null   object\n",
      " 2   Area                     1980 non-null   int64 \n",
      " 3   Possession Status        1980 non-null   object\n",
      " 4   Furnishing Status        1980 non-null   object\n",
      " 5   Number of Rooms          1980 non-null   int64 \n",
      " 6   Number of Bathroom       1980 non-null   int64 \n",
      " 7   Number of Parking        1980 non-null   object\n",
      " 8   View /Facing             1980 non-null   object\n",
      " 9   Floor No.                1980 non-null   object\n",
      " 10  Additional Rooms         1980 non-null   object\n",
      " 11  Age of Property (Years)  1980 non-null   object\n",
      " 12  Unit No                  1980 non-null   object\n",
      " 13  Total Floor Count        1980 non-null   object\n",
      "dtypes: int64(3), object(11)\n",
      "memory usage: 216.7+ KB\n"
     ]
    }
   ],
   "source": [
    "df.info()"
   ]
  },
  {
   "cell_type": "code",
   "execution_count": 28,
   "id": "a07e9e73",
   "metadata": {},
   "outputs": [
    {
     "data": {
      "text/plain": [
       "price                      0\n",
       "Locality                   0\n",
       "Area                       0\n",
       "Possession Status          0\n",
       "Furnishing Status          0\n",
       "Number of Rooms            0\n",
       "Number of Bathroom         0\n",
       "Number of Parking          0\n",
       "View /Facing               0\n",
       "Floor No.                  0\n",
       "Additional Rooms           0\n",
       "Age of Property (Years)    0\n",
       "Unit No                    0\n",
       "Total Floor Count          0\n",
       "dtype: int64"
      ]
     },
     "execution_count": 28,
     "metadata": {},
     "output_type": "execute_result"
    }
   ],
   "source": [
    "df.isnull().sum()"
   ]
  },
  {
   "cell_type": "code",
   "execution_count": 29,
   "id": "e59a58db",
   "metadata": {},
   "outputs": [
    {
     "name": "stdout",
     "output_type": "stream",
     "text": [
      "price\n",
      "Locality\n",
      "Area\n",
      "Possession Status\n",
      "Furnishing Status\n",
      "Number of Rooms\n",
      "Number of Bathroom\n",
      "Number of Parking\n",
      "View /Facing\n",
      "Floor No.\n",
      "Additional Rooms\n",
      "Age of Property (Years)\n",
      "Unit No\n",
      "Total Floor Count\n"
     ]
    }
   ],
   "source": [
    "for col in df.columns:  ## to get data columns name\n",
    "    print(col)"
   ]
  },
  {
   "cell_type": "code",
   "execution_count": 30,
   "id": "26fa5122",
   "metadata": {},
   "outputs": [
    {
     "data": {
      "text/html": [
       "<div>\n",
       "<style scoped>\n",
       "    .dataframe tbody tr th:only-of-type {\n",
       "        vertical-align: middle;\n",
       "    }\n",
       "\n",
       "    .dataframe tbody tr th {\n",
       "        vertical-align: top;\n",
       "    }\n",
       "\n",
       "    .dataframe thead th {\n",
       "        text-align: right;\n",
       "    }\n",
       "</style>\n",
       "<table border=\"1\" class=\"dataframe\">\n",
       "  <thead>\n",
       "    <tr style=\"text-align: right;\">\n",
       "      <th></th>\n",
       "      <th>price</th>\n",
       "      <th>Locality</th>\n",
       "      <th>Area</th>\n",
       "      <th>Possession Status</th>\n",
       "      <th>Furnishing Status</th>\n",
       "      <th>Number of Rooms</th>\n",
       "      <th>Number of Bathroom</th>\n",
       "      <th>Number of Parking</th>\n",
       "      <th>View /Facing</th>\n",
       "      <th>Floor No.</th>\n",
       "      <th>Additional Rooms</th>\n",
       "      <th>Age of Property (Years)</th>\n",
       "      <th>Unit No</th>\n",
       "      <th>Total Floor Count</th>\n",
       "    </tr>\n",
       "  </thead>\n",
       "  <tbody>\n",
       "    <tr>\n",
       "      <th>74</th>\n",
       "      <td>107.0</td>\n",
       "      <td>Suchitra Road</td>\n",
       "      <td>1950</td>\n",
       "      <td>Under Construction</td>\n",
       "      <td>Unfurnished</td>\n",
       "      <td>3</td>\n",
       "      <td>3</td>\n",
       "      <td>2</td>\n",
       "      <td>East</td>\n",
       "      <td>3</td>\n",
       "      <td>Pooja Room</td>\n",
       "      <td>0-1</td>\n",
       "      <td>60</td>\n",
       "      <td>10</td>\n",
       "    </tr>\n",
       "    <tr>\n",
       "      <th>206</th>\n",
       "      <td>71.47</td>\n",
       "      <td>Pragathi Nagar</td>\n",
       "      <td>1265</td>\n",
       "      <td>Under Construction</td>\n",
       "      <td>Unfurnished</td>\n",
       "      <td>2</td>\n",
       "      <td>2</td>\n",
       "      <td>1</td>\n",
       "      <td>East</td>\n",
       "      <td>3</td>\n",
       "      <td>Pooja Room</td>\n",
       "      <td>0-1</td>\n",
       "      <td>1</td>\n",
       "      <td>7</td>\n",
       "    </tr>\n",
       "    <tr>\n",
       "      <th>305</th>\n",
       "      <td>34.48</td>\n",
       "      <td>Bacharam</td>\n",
       "      <td>1150</td>\n",
       "      <td>Under Construction</td>\n",
       "      <td>Unfurnished</td>\n",
       "      <td>2</td>\n",
       "      <td>2</td>\n",
       "      <td>2</td>\n",
       "      <td>East</td>\n",
       "      <td>3</td>\n",
       "      <td>Pooja Room</td>\n",
       "      <td>0-1</td>\n",
       "      <td>2</td>\n",
       "      <td>5</td>\n",
       "    </tr>\n",
       "    <tr>\n",
       "      <th>313</th>\n",
       "      <td>39.15</td>\n",
       "      <td>Bacharam</td>\n",
       "      <td>1450</td>\n",
       "      <td>Under Construction</td>\n",
       "      <td>Unfurnished</td>\n",
       "      <td>2</td>\n",
       "      <td>2</td>\n",
       "      <td>1</td>\n",
       "      <td>North</td>\n",
       "      <td>4</td>\n",
       "      <td>Pooja Room</td>\n",
       "      <td>2-4</td>\n",
       "      <td>1</td>\n",
       "      <td>5</td>\n",
       "    </tr>\n",
       "    <tr>\n",
       "      <th>334</th>\n",
       "      <td>35.0</td>\n",
       "      <td>Bowenpally</td>\n",
       "      <td>220</td>\n",
       "      <td>Ready To Move</td>\n",
       "      <td>Semi-Furnished</td>\n",
       "      <td>3</td>\n",
       "      <td>3</td>\n",
       "      <td>2</td>\n",
       "      <td>East</td>\n",
       "      <td>5</td>\n",
       "      <td>Pooja Room</td>\n",
       "      <td>2-4</td>\n",
       "      <td>4</td>\n",
       "      <td>7</td>\n",
       "    </tr>\n",
       "    <tr>\n",
       "      <th>...</th>\n",
       "      <td>...</td>\n",
       "      <td>...</td>\n",
       "      <td>...</td>\n",
       "      <td>...</td>\n",
       "      <td>...</td>\n",
       "      <td>...</td>\n",
       "      <td>...</td>\n",
       "      <td>...</td>\n",
       "      <td>...</td>\n",
       "      <td>...</td>\n",
       "      <td>...</td>\n",
       "      <td>...</td>\n",
       "      <td>...</td>\n",
       "      <td>...</td>\n",
       "    </tr>\n",
       "    <tr>\n",
       "      <th>1717</th>\n",
       "      <td>39.15</td>\n",
       "      <td>Bacharam</td>\n",
       "      <td>1450</td>\n",
       "      <td>Under Construction</td>\n",
       "      <td>Unfurnished</td>\n",
       "      <td>2</td>\n",
       "      <td>2</td>\n",
       "      <td>1</td>\n",
       "      <td>North</td>\n",
       "      <td>1</td>\n",
       "      <td>Pooja Room</td>\n",
       "      <td>2-4</td>\n",
       "      <td>1</td>\n",
       "      <td>5</td>\n",
       "    </tr>\n",
       "    <tr>\n",
       "      <th>1787</th>\n",
       "      <td>83.0</td>\n",
       "      <td>Madinaguda</td>\n",
       "      <td>1240</td>\n",
       "      <td>Ready To Move</td>\n",
       "      <td>Semi-Furnished</td>\n",
       "      <td>2</td>\n",
       "      <td>2</td>\n",
       "      <td>1</td>\n",
       "      <td>East</td>\n",
       "      <td>2</td>\n",
       "      <td>Pooja Room</td>\n",
       "      <td>2-4</td>\n",
       "      <td>20</td>\n",
       "      <td>4</td>\n",
       "    </tr>\n",
       "    <tr>\n",
       "      <th>1921</th>\n",
       "      <td>66.0</td>\n",
       "      <td>Pragathi Nagar</td>\n",
       "      <td>1200</td>\n",
       "      <td>Ready To Move</td>\n",
       "      <td>Furnished</td>\n",
       "      <td>2</td>\n",
       "      <td>2</td>\n",
       "      <td>4</td>\n",
       "      <td>East</td>\n",
       "      <td>3</td>\n",
       "      <td>Pooja Room,Servant Room,Study Room,Extra Room</td>\n",
       "      <td>0-1</td>\n",
       "      <td>48</td>\n",
       "      <td>6</td>\n",
       "    </tr>\n",
       "    <tr>\n",
       "      <th>1923</th>\n",
       "      <td>27.58</td>\n",
       "      <td>Medchal</td>\n",
       "      <td>1150</td>\n",
       "      <td>Under Construction</td>\n",
       "      <td>Unfurnished</td>\n",
       "      <td>2</td>\n",
       "      <td>2</td>\n",
       "      <td>2</td>\n",
       "      <td>East</td>\n",
       "      <td>2</td>\n",
       "      <td>Pooja Room,Servant Room,Study Room</td>\n",
       "      <td>0-1</td>\n",
       "      <td>1</td>\n",
       "      <td>5</td>\n",
       "    </tr>\n",
       "    <tr>\n",
       "      <th>1959</th>\n",
       "      <td>59.0</td>\n",
       "      <td>Gajularamaram</td>\n",
       "      <td>1180</td>\n",
       "      <td>Ready To Move</td>\n",
       "      <td>Semi-Furnished</td>\n",
       "      <td>2</td>\n",
       "      <td>2</td>\n",
       "      <td>1</td>\n",
       "      <td>West</td>\n",
       "      <td>5</td>\n",
       "      <td>Pooja Room</td>\n",
       "      <td>0-1</td>\n",
       "      <td>156</td>\n",
       "      <td>6</td>\n",
       "    </tr>\n",
       "  </tbody>\n",
       "</table>\n",
       "<p>61 rows × 14 columns</p>\n",
       "</div>"
      ],
      "text/plain": [
       "      price        Locality  Area   Possession Status Furnishing Status  \\\n",
       "74    107.0   Suchitra Road  1950  Under Construction       Unfurnished   \n",
       "206   71.47  Pragathi Nagar  1265  Under Construction       Unfurnished   \n",
       "305   34.48        Bacharam  1150  Under Construction       Unfurnished   \n",
       "313   39.15        Bacharam  1450  Under Construction       Unfurnished   \n",
       "334    35.0      Bowenpally   220       Ready To Move    Semi-Furnished   \n",
       "...     ...             ...   ...                 ...               ...   \n",
       "1717  39.15        Bacharam  1450  Under Construction       Unfurnished   \n",
       "1787   83.0      Madinaguda  1240       Ready To Move    Semi-Furnished   \n",
       "1921   66.0  Pragathi Nagar  1200       Ready To Move         Furnished   \n",
       "1923  27.58         Medchal  1150  Under Construction       Unfurnished   \n",
       "1959   59.0   Gajularamaram  1180       Ready To Move    Semi-Furnished   \n",
       "\n",
       "      Number of Rooms  Number of Bathroom Number of Parking View /Facing  \\\n",
       "74                  3                   3                 2         East   \n",
       "206                 2                   2                 1         East   \n",
       "305                 2                   2                 2         East   \n",
       "313                 2                   2                 1        North   \n",
       "334                 3                   3                 2         East   \n",
       "...               ...                 ...               ...          ...   \n",
       "1717                2                   2                 1        North   \n",
       "1787                2                   2                 1         East   \n",
       "1921                2                   2                 4         East   \n",
       "1923                2                   2                 2         East   \n",
       "1959                2                   2                 1         West   \n",
       "\n",
       "     Floor No.                               Additional Rooms  \\\n",
       "74           3                                     Pooja Room   \n",
       "206          3                                     Pooja Room   \n",
       "305          3                                     Pooja Room   \n",
       "313          4                                     Pooja Room   \n",
       "334          5                                     Pooja Room   \n",
       "...        ...                                            ...   \n",
       "1717         1                                     Pooja Room   \n",
       "1787         2                                     Pooja Room   \n",
       "1921         3  Pooja Room,Servant Room,Study Room,Extra Room   \n",
       "1923         2             Pooja Room,Servant Room,Study Room   \n",
       "1959         5                                     Pooja Room   \n",
       "\n",
       "     Age of Property (Years) Unit No Total Floor Count  \n",
       "74                       0-1      60                10  \n",
       "206                      0-1       1                 7  \n",
       "305                      0-1       2                 5  \n",
       "313                      2-4       1                 5  \n",
       "334                      2-4       4                 7  \n",
       "...                      ...     ...               ...  \n",
       "1717                     2-4       1                 5  \n",
       "1787                     2-4      20                 4  \n",
       "1921                     0-1      48                 6  \n",
       "1923                     0-1       1                 5  \n",
       "1959                     0-1     156                 6  \n",
       "\n",
       "[61 rows x 14 columns]"
      ]
     },
     "execution_count": 30,
     "metadata": {},
     "output_type": "execute_result"
    }
   ],
   "source": [
    "df[df.duplicated()]## To check wether the data set has duplicate or repeated columns"
   ]
  },
  {
   "cell_type": "code",
   "execution_count": 31,
   "id": "61d1d088",
   "metadata": {},
   "outputs": [
    {
     "data": {
      "text/html": [
       "<div>\n",
       "<style scoped>\n",
       "    .dataframe tbody tr th:only-of-type {\n",
       "        vertical-align: middle;\n",
       "    }\n",
       "\n",
       "    .dataframe tbody tr th {\n",
       "        vertical-align: top;\n",
       "    }\n",
       "\n",
       "    .dataframe thead th {\n",
       "        text-align: right;\n",
       "    }\n",
       "</style>\n",
       "<table border=\"1\" class=\"dataframe\">\n",
       "  <thead>\n",
       "    <tr style=\"text-align: right;\">\n",
       "      <th></th>\n",
       "      <th>price</th>\n",
       "      <th>Locality</th>\n",
       "      <th>Area</th>\n",
       "      <th>Possession Status</th>\n",
       "      <th>Furnishing Status</th>\n",
       "      <th>Number of Rooms</th>\n",
       "      <th>Number of Bathroom</th>\n",
       "      <th>Number of Parking</th>\n",
       "      <th>View /Facing</th>\n",
       "      <th>Floor No.</th>\n",
       "      <th>Additional Rooms</th>\n",
       "      <th>Age of Property (Years)</th>\n",
       "      <th>Unit No</th>\n",
       "      <th>Total Floor Count</th>\n",
       "    </tr>\n",
       "  </thead>\n",
       "  <tbody>\n",
       "    <tr>\n",
       "      <th>0</th>\n",
       "      <td>104.0</td>\n",
       "      <td>Miyapur</td>\n",
       "      <td>1680</td>\n",
       "      <td>Ready To Move</td>\n",
       "      <td>Semi-Furnished</td>\n",
       "      <td>3</td>\n",
       "      <td>2</td>\n",
       "      <td>2</td>\n",
       "      <td>North</td>\n",
       "      <td>2</td>\n",
       "      <td>Pooja Room,Study Room,Extra Room</td>\n",
       "      <td>0-1</td>\n",
       "      <td>1</td>\n",
       "      <td>5</td>\n",
       "    </tr>\n",
       "    <tr>\n",
       "      <th>1</th>\n",
       "      <td>104.0</td>\n",
       "      <td>Kondapur</td>\n",
       "      <td>1600</td>\n",
       "      <td>Ready To Move</td>\n",
       "      <td>Unfurnished</td>\n",
       "      <td>3</td>\n",
       "      <td>3</td>\n",
       "      <td>1</td>\n",
       "      <td>West</td>\n",
       "      <td>2</td>\n",
       "      <td>Pooja Room,Study Room</td>\n",
       "      <td>0-1</td>\n",
       "      <td>202</td>\n",
       "      <td>5</td>\n",
       "    </tr>\n",
       "    <tr>\n",
       "      <th>2</th>\n",
       "      <td>69.46</td>\n",
       "      <td>Kollur</td>\n",
       "      <td>1579</td>\n",
       "      <td>Under Construction</td>\n",
       "      <td>Unfurnished</td>\n",
       "      <td>3</td>\n",
       "      <td>3</td>\n",
       "      <td>2</td>\n",
       "      <td>East</td>\n",
       "      <td>7</td>\n",
       "      <td>Pooja Room</td>\n",
       "      <td>0-1</td>\n",
       "      <td>95</td>\n",
       "      <td>15</td>\n",
       "    </tr>\n",
       "    <tr>\n",
       "      <th>3</th>\n",
       "      <td>113.0</td>\n",
       "      <td>Kondapur</td>\n",
       "      <td>1515</td>\n",
       "      <td>Ready To Move</td>\n",
       "      <td>Unfurnished</td>\n",
       "      <td>3</td>\n",
       "      <td>2</td>\n",
       "      <td>1</td>\n",
       "      <td>East</td>\n",
       "      <td>5</td>\n",
       "      <td>Pooja Room</td>\n",
       "      <td>0-1</td>\n",
       "      <td>10</td>\n",
       "      <td>5</td>\n",
       "    </tr>\n",
       "    <tr>\n",
       "      <th>4</th>\n",
       "      <td>46.0</td>\n",
       "      <td>Tolichowki</td>\n",
       "      <td>1100</td>\n",
       "      <td>Ready To Move</td>\n",
       "      <td>Unfurnished</td>\n",
       "      <td>2</td>\n",
       "      <td>2</td>\n",
       "      <td>1</td>\n",
       "      <td>East</td>\n",
       "      <td>2</td>\n",
       "      <td>Servant Room</td>\n",
       "      <td>0-1</td>\n",
       "      <td>5</td>\n",
       "      <td>5</td>\n",
       "    </tr>\n",
       "    <tr>\n",
       "      <th>...</th>\n",
       "      <td>...</td>\n",
       "      <td>...</td>\n",
       "      <td>...</td>\n",
       "      <td>...</td>\n",
       "      <td>...</td>\n",
       "      <td>...</td>\n",
       "      <td>...</td>\n",
       "      <td>...</td>\n",
       "      <td>...</td>\n",
       "      <td>...</td>\n",
       "      <td>...</td>\n",
       "      <td>...</td>\n",
       "      <td>...</td>\n",
       "      <td>...</td>\n",
       "    </tr>\n",
       "    <tr>\n",
       "      <th>1975</th>\n",
       "      <td>63.25</td>\n",
       "      <td>Bachupally</td>\n",
       "      <td>1150</td>\n",
       "      <td>Under Construction</td>\n",
       "      <td>Unfurnished</td>\n",
       "      <td>2</td>\n",
       "      <td>2</td>\n",
       "      <td>1</td>\n",
       "      <td>East</td>\n",
       "      <td>6</td>\n",
       "      <td>Pooja Room</td>\n",
       "      <td>0-1</td>\n",
       "      <td>601</td>\n",
       "      <td>22</td>\n",
       "    </tr>\n",
       "    <tr>\n",
       "      <th>1976</th>\n",
       "      <td>26.62</td>\n",
       "      <td>Isnapur</td>\n",
       "      <td>1110</td>\n",
       "      <td>Under Construction</td>\n",
       "      <td>Unfurnished</td>\n",
       "      <td>2</td>\n",
       "      <td>2</td>\n",
       "      <td>2</td>\n",
       "      <td>South</td>\n",
       "      <td>2</td>\n",
       "      <td>Pooja Room,Study Room</td>\n",
       "      <td>0-1</td>\n",
       "      <td>25</td>\n",
       "      <td>4</td>\n",
       "    </tr>\n",
       "    <tr>\n",
       "      <th>1977</th>\n",
       "      <td>36.32</td>\n",
       "      <td>Bandlaguda</td>\n",
       "      <td>1130</td>\n",
       "      <td>Under Construction</td>\n",
       "      <td>Unfurnished</td>\n",
       "      <td>3</td>\n",
       "      <td>2</td>\n",
       "      <td>1</td>\n",
       "      <td>North</td>\n",
       "      <td>6</td>\n",
       "      <td>Extra Room</td>\n",
       "      <td>0-1</td>\n",
       "      <td>2</td>\n",
       "      <td>5</td>\n",
       "    </tr>\n",
       "    <tr>\n",
       "      <th>1978</th>\n",
       "      <td>71.06</td>\n",
       "      <td>Pragathi Nagar</td>\n",
       "      <td>1292</td>\n",
       "      <td>Ready To Move</td>\n",
       "      <td>Unfurnished</td>\n",
       "      <td>2</td>\n",
       "      <td>2</td>\n",
       "      <td>2</td>\n",
       "      <td>East</td>\n",
       "      <td>1</td>\n",
       "      <td>Pooja Room</td>\n",
       "      <td>0-1</td>\n",
       "      <td>2</td>\n",
       "      <td>7</td>\n",
       "    </tr>\n",
       "    <tr>\n",
       "      <th>1979</th>\n",
       "      <td>55.0</td>\n",
       "      <td>Suraram Colony</td>\n",
       "      <td>1250</td>\n",
       "      <td>Ready To Move</td>\n",
       "      <td>Unfurnished</td>\n",
       "      <td>2</td>\n",
       "      <td>2</td>\n",
       "      <td>1</td>\n",
       "      <td>East</td>\n",
       "      <td>2</td>\n",
       "      <td>Pooja Room,Study Room,Extra Room</td>\n",
       "      <td>0-1</td>\n",
       "      <td>220</td>\n",
       "      <td>10</td>\n",
       "    </tr>\n",
       "  </tbody>\n",
       "</table>\n",
       "<p>1919 rows × 14 columns</p>\n",
       "</div>"
      ],
      "text/plain": [
       "      price        Locality  Area   Possession Status Furnishing Status  \\\n",
       "0     104.0         Miyapur  1680       Ready To Move    Semi-Furnished   \n",
       "1     104.0        Kondapur  1600       Ready To Move       Unfurnished   \n",
       "2     69.46          Kollur  1579  Under Construction       Unfurnished   \n",
       "3     113.0        Kondapur  1515       Ready To Move       Unfurnished   \n",
       "4      46.0      Tolichowki  1100       Ready To Move       Unfurnished   \n",
       "...     ...             ...   ...                 ...               ...   \n",
       "1975  63.25      Bachupally  1150  Under Construction       Unfurnished   \n",
       "1976  26.62         Isnapur  1110  Under Construction       Unfurnished   \n",
       "1977  36.32      Bandlaguda  1130  Under Construction       Unfurnished   \n",
       "1978  71.06  Pragathi Nagar  1292       Ready To Move       Unfurnished   \n",
       "1979   55.0  Suraram Colony  1250       Ready To Move       Unfurnished   \n",
       "\n",
       "      Number of Rooms  Number of Bathroom Number of Parking View /Facing  \\\n",
       "0                   3                   2                 2        North   \n",
       "1                   3                   3                 1         West   \n",
       "2                   3                   3                 2         East   \n",
       "3                   3                   2                 1         East   \n",
       "4                   2                   2                 1         East   \n",
       "...               ...                 ...               ...          ...   \n",
       "1975                2                   2                 1         East   \n",
       "1976                2                   2                 2        South   \n",
       "1977                3                   2                 1        North   \n",
       "1978                2                   2                 2         East   \n",
       "1979                2                   2                 1         East   \n",
       "\n",
       "     Floor No.                  Additional Rooms Age of Property (Years)  \\\n",
       "0            2  Pooja Room,Study Room,Extra Room                     0-1   \n",
       "1            2             Pooja Room,Study Room                     0-1   \n",
       "2            7                        Pooja Room                     0-1   \n",
       "3            5                        Pooja Room                     0-1   \n",
       "4            2                      Servant Room                     0-1   \n",
       "...        ...                               ...                     ...   \n",
       "1975         6                        Pooja Room                     0-1   \n",
       "1976         2             Pooja Room,Study Room                     0-1   \n",
       "1977         6                        Extra Room                     0-1   \n",
       "1978         1                        Pooja Room                     0-1   \n",
       "1979         2  Pooja Room,Study Room,Extra Room                     0-1   \n",
       "\n",
       "     Unit No Total Floor Count  \n",
       "0          1                 5  \n",
       "1        202                 5  \n",
       "2         95                15  \n",
       "3         10                 5  \n",
       "4          5                 5  \n",
       "...      ...               ...  \n",
       "1975     601                22  \n",
       "1976      25                 4  \n",
       "1977       2                 5  \n",
       "1978       2                 7  \n",
       "1979     220                10  \n",
       "\n",
       "[1919 rows x 14 columns]"
      ]
     },
     "execution_count": 31,
     "metadata": {},
     "output_type": "execute_result"
    }
   ],
   "source": [
    "df.drop_duplicates()"
   ]
  },
  {
   "cell_type": "code",
   "execution_count": 32,
   "id": "7db570a7",
   "metadata": {},
   "outputs": [],
   "source": [
    "df['Number of Parking']=df['Number of Parking'].str.replace('+',\"\")"
   ]
  },
  {
   "cell_type": "code",
   "execution_count": 33,
   "id": "fa263837",
   "metadata": {},
   "outputs": [
    {
     "data": {
      "text/plain": [
       "array(['2', '1', '3', '6', '5', '4'], dtype=object)"
      ]
     },
     "execution_count": 33,
     "metadata": {},
     "output_type": "execute_result"
    }
   ],
   "source": [
    "df['Number of Parking'].unique()"
   ]
  },
  {
   "cell_type": "code",
   "execution_count": null,
   "id": "5d6be3e0",
   "metadata": {},
   "outputs": [],
   "source": [
    "df['Number of Parking']=df['Number of Parking'].astype(int)"
   ]
  },
  {
   "cell_type": "code",
   "execution_count": null,
   "id": "59fafdb2",
   "metadata": {},
   "outputs": [],
   "source": [
    "df['Floor No.'].unique()"
   ]
  },
  {
   "cell_type": "code",
   "execution_count": null,
   "id": "a136eea2",
   "metadata": {},
   "outputs": [],
   "source": [
    "df['Floor No.']=df['Floor No.'].str.strip()"
   ]
  },
  {
   "cell_type": "code",
   "execution_count": null,
   "id": "db4069a9",
   "metadata": {},
   "outputs": [],
   "source": [
    "df['Floor No.'].unique()"
   ]
  },
  {
   "cell_type": "code",
   "execution_count": null,
   "id": "c35092c3",
   "metadata": {},
   "outputs": [],
   "source": [
    "df[df['Floor No.']=='187423']"
   ]
  },
  {
   "cell_type": "code",
   "execution_count": null,
   "id": "3bd3b85f",
   "metadata": {},
   "outputs": [],
   "source": [
    "df['Floor No.']=df['Floor No.'].replace('187423',\"\")"
   ]
  },
  {
   "cell_type": "code",
   "execution_count": null,
   "id": "739dfead",
   "metadata": {},
   "outputs": [],
   "source": [
    "df['Floor No.']=df['Floor No.'].replace('G',\"\")"
   ]
  },
  {
   "cell_type": "code",
   "execution_count": null,
   "id": "2430343e",
   "metadata": {},
   "outputs": [],
   "source": [
    "df['Floor No.'].unique()"
   ]
  },
  {
   "cell_type": "code",
   "execution_count": null,
   "id": "78ed4c83",
   "metadata": {},
   "outputs": [],
   "source": [
    "df['Floor No.']=df['Floor No.'].replace(('01  05','01  10','1  10','³','123 45','²'),('0105','0110','110','3','12345','2'))"
   ]
  },
  {
   "cell_type": "code",
   "execution_count": null,
   "id": "2fb9ec26",
   "metadata": {},
   "outputs": [],
   "source": [
    "df['Floor No.'].unique()"
   ]
  },
  {
   "cell_type": "code",
   "execution_count": null,
   "id": "cea988d2",
   "metadata": {},
   "outputs": [],
   "source": [
    "df['Floor No.']=df['Floor No.'].replace(\"\",1)"
   ]
  },
  {
   "cell_type": "code",
   "execution_count": null,
   "id": "fcd37aca",
   "metadata": {},
   "outputs": [],
   "source": [
    "df['Floor No.']=df['Floor No.'].astype(int)"
   ]
  },
  {
   "cell_type": "code",
   "execution_count": null,
   "id": "58a643ec",
   "metadata": {},
   "outputs": [],
   "source": [
    "df['Floor No.'].dtype"
   ]
  },
  {
   "cell_type": "code",
   "execution_count": null,
   "id": "2a49681c",
   "metadata": {},
   "outputs": [],
   "source": [
    "del df['Unit No']"
   ]
  },
  {
   "cell_type": "code",
   "execution_count": null,
   "id": "b831e2a1",
   "metadata": {},
   "outputs": [],
   "source": [
    "df['Total Floor Count'].unique()"
   ]
  },
  {
   "cell_type": "code",
   "execution_count": null,
   "id": "f13f190b",
   "metadata": {},
   "outputs": [],
   "source": [
    "df['Total Floor Count']=df['Total Floor Count'].str.strip()"
   ]
  },
  {
   "cell_type": "code",
   "execution_count": null,
   "id": "74119679",
   "metadata": {},
   "outputs": [],
   "source": [
    "df['Total Floor Count'].unique()"
   ]
  },
  {
   "cell_type": "code",
   "execution_count": null,
   "id": "c483bae1",
   "metadata": {},
   "outputs": [],
   "source": [
    "df['Total Floor Count']=df['Total Floor Count'].replace((\"\",'1  10','P315'),(\"1\",\"10\",\"15\"))"
   ]
  },
  {
   "cell_type": "code",
   "execution_count": null,
   "id": "8801e369",
   "metadata": {},
   "outputs": [],
   "source": [
    "df['Total Floor Count'].unique()"
   ]
  },
  {
   "cell_type": "code",
   "execution_count": null,
   "id": "525e4924",
   "metadata": {},
   "outputs": [],
   "source": [
    "df['Total Floor Count']=df['Total Floor Count'].astype(int)"
   ]
  },
  {
   "cell_type": "code",
   "execution_count": null,
   "id": "28906d0c",
   "metadata": {},
   "outputs": [],
   "source": [
    "df.to_csv(r'C:\\Users\\kakar\\Downloads\\DS Data sets\\Realestate_finalfinallformodelbulding.csv',index= False)"
   ]
  },
  {
   "cell_type": "code",
   "execution_count": null,
   "id": "15df4874",
   "metadata": {},
   "outputs": [],
   "source": [
    "df_clean=pd.read_csv(r'C:\\Users\\kakar\\Downloads\\DS Data sets\\Realestate_finalfinallformodelbulding.csv')"
   ]
  },
  {
   "cell_type": "code",
   "execution_count": null,
   "id": "5100a7ed",
   "metadata": {},
   "outputs": [],
   "source": [
    "df_clean"
   ]
  },
  {
   "cell_type": "markdown",
   "id": "43d7f589",
   "metadata": {},
   "source": [
    "# VALUE COUNTS"
   ]
  },
  {
   "cell_type": "code",
   "execution_count": null,
   "id": "e6f730b2",
   "metadata": {},
   "outputs": [],
   "source": [
    "df_clean.price.value_counts()"
   ]
  },
  {
   "cell_type": "code",
   "execution_count": null,
   "id": "a57bc91b",
   "metadata": {},
   "outputs": [],
   "source": [
    "df_clean.Area.value_counts()"
   ]
  },
  {
   "cell_type": "code",
   "execution_count": null,
   "id": "42e7144c",
   "metadata": {},
   "outputs": [],
   "source": [
    "df_clean['Number of Rooms'].value_counts()"
   ]
  },
  {
   "cell_type": "code",
   "execution_count": null,
   "id": "3298743d",
   "metadata": {},
   "outputs": [],
   "source": [
    "df_clean['Number of Bathroom'].value_counts()"
   ]
  },
  {
   "cell_type": "code",
   "execution_count": null,
   "id": "885033e9",
   "metadata": {},
   "outputs": [],
   "source": [
    "df_clean['Age of Property (Years)'].value_counts()"
   ]
  },
  {
   "cell_type": "code",
   "execution_count": null,
   "id": "300f550b",
   "metadata": {},
   "outputs": [],
   "source": [
    "df_clean[''].value_counts()"
   ]
  },
  {
   "cell_type": "code",
   "execution_count": null,
   "id": "3a3dbc98",
   "metadata": {},
   "outputs": [],
   "source": [
    "df_clean['Total Floor Count'].value_counts()"
   ]
  },
  {
   "cell_type": "code",
   "execution_count": null,
   "id": "687547c1",
   "metadata": {},
   "outputs": [],
   "source": [
    "#df.to_csv(r'C:\\Users\\kakar\\Downloads\\DS Data sets\\Real_final.csv',index= False)"
   ]
  },
  {
   "cell_type": "markdown",
   "id": "d48bb154",
   "metadata": {},
   "source": [
    "# EDA\n"
   ]
  },
  {
   "cell_type": "markdown",
   "id": "b6ab2dd6",
   "metadata": {},
   "source": [
    "  The steps of EDA in Python\n",
    "* removing unnessary columns \n",
    "* Exploratory Data Analysis (EDA) Steps with Python\n",
    "* Check data shape (num of Rows & Columns) .\n",
    "* Check each data type of columns and missing values (if missing values is present replace with mean & mode , if missing values are more then 50% in row drop).\n",
    "* Splitting values. \n",
    "* Change the data type\n",
    "* Check the percentages of missing value. \n",
    "* Summary Statistics. \n",
    "* Check value counts for a specific column. \n",
    "* Check duplicate values and deal with it.\n",
    "* univariate,bivariate,multipl variet ANALYSIS (for each and ever column).\n",
    "* checking co-relation.\n",
    "* removing outliers.\n",
    "\n",
    "** The main agenda of EDA process is to represent the data in visulization format like(graphs,charts,dashbords,plots) for better way to understand data easly"
   ]
  },
  {
   "cell_type": "markdown",
   "id": "2daa8ce7",
   "metadata": {},
   "source": [
    "# univariate analysis"
   ]
  },
  {
   "cell_type": "code",
   "execution_count": null,
   "id": "827f3f51",
   "metadata": {},
   "outputs": [],
   "source": [
    "df_clean.price.min()"
   ]
  },
  {
   "cell_type": "code",
   "execution_count": null,
   "id": "96b021b1",
   "metadata": {},
   "outputs": [],
   "source": [
    "df_clean.price.max()"
   ]
  },
  {
   "cell_type": "markdown",
   "id": "900140a5",
   "metadata": {},
   "source": [
    "POSSESSION STATUS"
   ]
  },
  {
   "cell_type": "code",
   "execution_count": null,
   "id": "faaa7dc3",
   "metadata": {},
   "outputs": [],
   "source": [
    "df_clean.columns"
   ]
  },
  {
   "cell_type": "code",
   "execution_count": null,
   "id": "c1f260b5",
   "metadata": {},
   "outputs": [],
   "source": [
    "sns.set_style('whitegrid')\n",
    "sns.countplot(x='Possession Status',data=df_clean,palette='rainbow')\n",
    "plt.show()"
   ]
  },
  {
   "cell_type": "markdown",
   "id": "7ba5c1bc",
   "metadata": {},
   "source": [
    "Furnishing Status"
   ]
  },
  {
   "cell_type": "code",
   "execution_count": null,
   "id": "403380c3",
   "metadata": {},
   "outputs": [],
   "source": [
    "sns.set_style('whitegrid')\n",
    "sns.countplot(x='Furnishing Status',data=df_clean,palette='rainbow')\n",
    "plt.show()"
   ]
  },
  {
   "cell_type": "code",
   "execution_count": null,
   "id": "1c5ae8e0",
   "metadata": {},
   "outputs": [],
   "source": [
    "df_clean['Furnishing Status'].value_counts()"
   ]
  },
  {
   "cell_type": "markdown",
   "id": "602b30f3",
   "metadata": {},
   "source": [
    "View /Facing"
   ]
  },
  {
   "cell_type": "code",
   "execution_count": null,
   "id": "957d34dd",
   "metadata": {},
   "outputs": [],
   "source": [
    "plt.figure(figsize=(19,7))\n",
    "sns.set_style('whitegrid')\n",
    "sns.countplot(x='View /Facing',data=df_clean,palette='rainbow')\n",
    "plt.show()\n"
   ]
  },
  {
   "cell_type": "code",
   "execution_count": null,
   "id": "fbee721d",
   "metadata": {},
   "outputs": [],
   "source": [
    "df_clean['View /Facing'].value_counts()"
   ]
  },
  {
   "cell_type": "markdown",
   "id": "b278215e",
   "metadata": {},
   "source": [
    "Number of Parking"
   ]
  },
  {
   "cell_type": "code",
   "execution_count": null,
   "id": "b27fa9cf",
   "metadata": {},
   "outputs": [],
   "source": [
    "plt.figure(figsize=(19,7))\n",
    "sns.set_style('whitegrid')\n",
    "sns.countplot(x='Number of Parking',data=df_clean,palette='rainbow')\n",
    "plt.show()\n"
   ]
  },
  {
   "cell_type": "code",
   "execution_count": null,
   "id": "33810b8c",
   "metadata": {},
   "outputs": [],
   "source": [
    "df_clean['Number of Parking'].value_counts()"
   ]
  },
  {
   "cell_type": "markdown",
   "id": "80a968ed",
   "metadata": {},
   "source": [
    "Additional Rooms"
   ]
  },
  {
   "cell_type": "code",
   "execution_count": null,
   "id": "7546166d",
   "metadata": {},
   "outputs": [],
   "source": [
    "plt.figure(figsize=(40,10))\n",
    "sns.set_style('whitegrid')\n",
    "sns.countplot(x='Additional Rooms',data=df_clean,palette='rainbow')\n",
    "plt.show()"
   ]
  },
  {
   "cell_type": "code",
   "execution_count": null,
   "id": "c74e7d4c",
   "metadata": {},
   "outputs": [],
   "source": [
    "df_clean['Additional Rooms'].value_counts()"
   ]
  },
  {
   "cell_type": "markdown",
   "id": "29c336b4",
   "metadata": {},
   "source": [
    "Age of Property (Years)"
   ]
  },
  {
   "cell_type": "code",
   "execution_count": null,
   "id": "382c19e4",
   "metadata": {},
   "outputs": [],
   "source": [
    "sns.set_style('whitegrid')\n",
    "sns.countplot(x='Age of Property (Years)',data=df_clean,palette='rainbow')\n",
    "plt.show()\n"
   ]
  },
  {
   "cell_type": "markdown",
   "id": "9cced46b",
   "metadata": {},
   "source": [
    "Number of Bathroom"
   ]
  },
  {
   "cell_type": "code",
   "execution_count": null,
   "id": "a9a94799",
   "metadata": {},
   "outputs": [],
   "source": [
    "sns.set_style('whitegrid')\n",
    "sns.countplot(x='Number of Bathroom',data=df_clean,palette='rainbow')\n",
    "plt.show()"
   ]
  },
  {
   "cell_type": "code",
   "execution_count": null,
   "id": "050ebd89",
   "metadata": {},
   "outputs": [],
   "source": [
    "df_clean['Number of Bathroom'].value_counts()"
   ]
  },
  {
   "cell_type": "markdown",
   "id": "0a1221cf",
   "metadata": {},
   "source": [
    "Locality"
   ]
  },
  {
   "cell_type": "code",
   "execution_count": null,
   "id": "ef2488c3",
   "metadata": {},
   "outputs": [],
   "source": [
    "plt.figure(figsize=(40,10))\n",
    "sns.set_style('whitegrid')\n",
    "sns.countplot(x='Locality',data=df_clean,palette='rainbow')\n",
    "plt.show()"
   ]
  },
  {
   "cell_type": "code",
   "execution_count": null,
   "id": "a87d01ae",
   "metadata": {},
   "outputs": [],
   "source": [
    "\n",
    "df_clean.Locality.value_counts()"
   ]
  },
  {
   "cell_type": "code",
   "execution_count": null,
   "id": "1a4e396e",
   "metadata": {},
   "outputs": [],
   "source": [
    "plt.figure(figsize=(40,10))\n",
    "sns.set_style('whitegrid')\n",
    "sns.countplot(x='Locality',data=df_clean.head(10),palette='rainbow')\n",
    "plt.show()"
   ]
  },
  {
   "cell_type": "code",
   "execution_count": null,
   "id": "63973503",
   "metadata": {},
   "outputs": [],
   "source": [
    "df_clean.Locality.min()"
   ]
  },
  {
   "cell_type": "code",
   "execution_count": null,
   "id": "37d8568a",
   "metadata": {},
   "outputs": [],
   "source": [
    "df_clean.Locality.max()"
   ]
  },
  {
   "cell_type": "code",
   "execution_count": null,
   "id": "1ac1ce71",
   "metadata": {},
   "outputs": [],
   "source": [
    "df_clean.Area.min()"
   ]
  },
  {
   "cell_type": "code",
   "execution_count": null,
   "id": "788d642f",
   "metadata": {},
   "outputs": [],
   "source": [
    "df_clean.Area.astype(float)"
   ]
  },
  {
   "cell_type": "code",
   "execution_count": null,
   "id": "298dfed0",
   "metadata": {},
   "outputs": [],
   "source": [
    "df_clean.Area.max()"
   ]
  },
  {
   "cell_type": "code",
   "execution_count": null,
   "id": "aa8d297b",
   "metadata": {},
   "outputs": [],
   "source": [
    "df_clean.price.astype(float)"
   ]
  },
  {
   "cell_type": "markdown",
   "id": "32ac3204",
   "metadata": {},
   "source": [
    "Total Floor Count"
   ]
  },
  {
   "cell_type": "code",
   "execution_count": null,
   "id": "3d15dfea",
   "metadata": {},
   "outputs": [],
   "source": [
    "plt.figure(figsize=(30,15))\n",
    "sns.set_style('whitegrid')\n",
    "sns.countplot(x='Total Floor Count',data=df_clean,palette='rainbow')\n",
    "plt.show()"
   ]
  },
  {
   "cell_type": "code",
   "execution_count": null,
   "id": "3f867c19",
   "metadata": {},
   "outputs": [],
   "source": [
    "values = df_clean['Total Floor Count'].value_counts()"
   ]
  },
  {
   "cell_type": "code",
   "execution_count": null,
   "id": "0e1d41e9",
   "metadata": {},
   "outputs": [],
   "source": [
    "values"
   ]
  },
  {
   "cell_type": "code",
   "execution_count": null,
   "id": "ef90fdc2",
   "metadata": {},
   "outputs": [],
   "source": [
    "plt.figure(figsize=(15,5))\n",
    "sns.set_style('whitegrid')\n",
    "sns.countplot(x='Total Floor Count',data=df_clean.head(20),palette='rainbow')\n",
    "plt.show()"
   ]
  },
  {
   "cell_type": "markdown",
   "id": "2b1daf59",
   "metadata": {},
   "source": [
    "# Bi-variate analysis"
   ]
  },
  {
   "cell_type": "markdown",
   "id": "aa95cdd8",
   "metadata": {},
   "source": [
    "price"
   ]
  },
  {
   "cell_type": "code",
   "execution_count": null,
   "id": "41cf9ec7",
   "metadata": {},
   "outputs": [],
   "source": [
    "df_clean.head()"
   ]
  },
  {
   "cell_type": "code",
   "execution_count": null,
   "id": "66af12d3",
   "metadata": {},
   "outputs": [],
   "source": [
    "df_clean.price = df.price.astype(float)"
   ]
  },
  {
   "cell_type": "code",
   "execution_count": null,
   "id": "03b4f921",
   "metadata": {},
   "outputs": [],
   "source": [
    "df_clean.dtypes"
   ]
  },
  {
   "cell_type": "code",
   "execution_count": null,
   "id": "b69d366e",
   "metadata": {},
   "outputs": [],
   "source": [
    "df_clean.describe()"
   ]
  },
  {
   "cell_type": "code",
   "execution_count": null,
   "id": "ad313d3d",
   "metadata": {},
   "outputs": [],
   "source": [
    "Model = round(df_clean[['Locality', 'price']].groupby(['Locality'], as_index=False).mean(),2).sort_values(ascending=False, by='price')\n",
    "Model .head(20)"
   ]
  },
  {
   "cell_type": "code",
   "execution_count": null,
   "id": "8ca9db7f",
   "metadata": {},
   "outputs": [],
   "source": [
    "#pd.set_option('display.max_rows',None)"
   ]
  },
  {
   "cell_type": "code",
   "execution_count": null,
   "id": "914c2b7c",
   "metadata": {
    "scrolled": true
   },
   "outputs": [],
   "source": [
    "df_clean.groupby(['Locality','Area','Possession Status','Furnishing Status','View /Facing','Number of Parking']).agg({'price':['mean','min','max','size']})"
   ]
  },
  {
   "cell_type": "markdown",
   "id": "e1f10657",
   "metadata": {},
   "source": [
    "TO check the min & max price of particular locations"
   ]
  },
  {
   "cell_type": "code",
   "execution_count": null,
   "id": "85ee9598",
   "metadata": {},
   "outputs": [],
   "source": [
    "plt.figure(figsize=(30,15))\n",
    "sns.barplot(x=\"Locality\",y='price',data=Model.head(10))\n",
    "plt.xticks(fontsize=20)\n",
    "plt.show()"
   ]
  },
  {
   "cell_type": "code",
   "execution_count": null,
   "id": "cabf56c2",
   "metadata": {},
   "outputs": [],
   "source": [
    "df_clean['price'][df_clean['Locality']=='Abids'].min()"
   ]
  },
  {
   "cell_type": "code",
   "execution_count": null,
   "id": "8b2f5f75",
   "metadata": {},
   "outputs": [],
   "source": [
    "#sns.set_style('whitegrid')\n",
    "#sns.countplot(x='price', hue='Area',data=df)\n",
    "#plt.show()"
   ]
  },
  {
   "cell_type": "markdown",
   "id": "d42b5c5d",
   "metadata": {},
   "source": [
    "'Area', 'price'"
   ]
  },
  {
   "cell_type": "code",
   "execution_count": null,
   "id": "fba6b619",
   "metadata": {},
   "outputs": [],
   "source": [
    "Model2 = round(df_clean[['Area', 'price']].groupby(['Area'], as_index=False).mean(),2).sort_values(ascending=False, by='price')\n",
    "Model2 .head(20)"
   ]
  },
  {
   "cell_type": "code",
   "execution_count": null,
   "id": "f959e925",
   "metadata": {},
   "outputs": [],
   "source": [
    "plt.figure(figsize=(30,15))\n",
    "sns.barplot(x=\"Area\",y='price',data=Model2.head(10))\n",
    "plt.xticks(fontsize=20)\n",
    "plt.show()"
   ]
  },
  {
   "cell_type": "markdown",
   "id": "6eae2129",
   "metadata": {},
   "source": [
    "'Possession Status'&'price"
   ]
  },
  {
   "cell_type": "code",
   "execution_count": null,
   "id": "9c181cb2",
   "metadata": {},
   "outputs": [],
   "source": [
    "Model3 = round(df_clean[['Possession Status', 'price']].groupby(['Possession Status'], as_index=False).mean(),2).sort_values(ascending=False, by='price')\n",
    "Model3 "
   ]
  },
  {
   "cell_type": "code",
   "execution_count": null,
   "id": "38f70c95",
   "metadata": {},
   "outputs": [],
   "source": [
    "plt.figure(figsize=(30,15))\n",
    "sns.barplot(x=\"Possession Status\",y='price',data=Model3)\n",
    "plt.xticks(fontsize=20)\n",
    "plt.show()"
   ]
  },
  {
   "cell_type": "markdown",
   "id": "4cac3140",
   "metadata": {},
   "source": [
    "Furnishing Status'& 'price"
   ]
  },
  {
   "cell_type": "code",
   "execution_count": null,
   "id": "f4bca5db",
   "metadata": {},
   "outputs": [],
   "source": [
    "Model4 = round(df_clean[['Furnishing Status', 'price']].groupby(['Furnishing Status'], as_index=False).mean(),2).sort_values(ascending=False, by='price')\n",
    "Model4 "
   ]
  },
  {
   "cell_type": "code",
   "execution_count": null,
   "id": "4ff21f0d",
   "metadata": {},
   "outputs": [],
   "source": [
    "plt.figure(figsize=(30,15))\n",
    "sns.barplot(x=\"Furnishing Status\",y='price',data=Model4)\n",
    "plt.xticks(fontsize=20)\n",
    "plt.show()"
   ]
  },
  {
   "cell_type": "markdown",
   "id": "c13d9374",
   "metadata": {},
   "source": [
    "price & View /Facing"
   ]
  },
  {
   "cell_type": "code",
   "execution_count": null,
   "id": "20ee94bd",
   "metadata": {},
   "outputs": [],
   "source": [
    "sns.set_style('whitegrid')\n",
    "sns.barplot(x='price',y='View /Facing',data=df)\n",
    "plt.show()"
   ]
  },
  {
   "cell_type": "markdown",
   "id": "c072497f",
   "metadata": {},
   "source": [
    "Number of Parking & price"
   ]
  },
  {
   "cell_type": "code",
   "execution_count": null,
   "id": "467e0257",
   "metadata": {},
   "outputs": [],
   "source": [
    "sns.set_style('whitegrid')\n",
    "sns.barplot(x='price',y='Number of Parking',data=df)\n",
    "plt.show()"
   ]
  },
  {
   "cell_type": "markdown",
   "id": "8724c112",
   "metadata": {},
   "source": [
    "Additional Rooms & price"
   ]
  },
  {
   "cell_type": "code",
   "execution_count": null,
   "id": "32f18f64",
   "metadata": {},
   "outputs": [],
   "source": [
    "sns.set_style('whitegrid')\n",
    "sns.barplot(x='price',y='Additional Rooms',data=df_clean)\n",
    "plt.show()"
   ]
  },
  {
   "cell_type": "markdown",
   "id": "694e8089",
   "metadata": {},
   "source": [
    "# Multi-variate analysis:-"
   ]
  },
  {
   "cell_type": "code",
   "execution_count": null,
   "id": "9a94dbbd",
   "metadata": {},
   "outputs": [],
   "source": [
    "plt.figure(figsize=(15,10))\n",
    "sns.heatmap(df_clean.corr(),annot=True)\n",
    "plt.show()"
   ]
  },
  {
   "cell_type": "code",
   "execution_count": null,
   "id": "788ad7c0",
   "metadata": {},
   "outputs": [],
   "source": [
    "df_clean.corr()"
   ]
  },
  {
   "cell_type": "code",
   "execution_count": null,
   "id": "b6a93dcc",
   "metadata": {},
   "outputs": [],
   "source": [
    "df_clean.isnull().sum()"
   ]
  },
  {
   "cell_type": "markdown",
   "id": "ac592057",
   "metadata": {},
   "source": [
    "checking out liers"
   ]
  },
  {
   "cell_type": "code",
   "execution_count": null,
   "id": "ffb417b5",
   "metadata": {},
   "outputs": [],
   "source": [
    "sns.heatmap(df_clean.isnull(), yticklabels=False,cmap='viridis')\n",
    "plt.show()"
   ]
  },
  {
   "cell_type": "code",
   "execution_count": null,
   "id": "cc222aa1",
   "metadata": {},
   "outputs": [],
   "source": [
    "plt.figure(figsize=(15,5))\n",
    "df_clean.boxplot()\n",
    "plt.show()"
   ]
  },
  {
   "cell_type": "code",
   "execution_count": null,
   "id": "4f8e0b6f",
   "metadata": {},
   "outputs": [],
   "source": []
  },
  {
   "cell_type": "code",
   "execution_count": null,
   "id": "9270a50c",
   "metadata": {},
   "outputs": [],
   "source": [
    "def out(contin):\n",
    "    x1=contin.quantile(0.05)\n",
    "    x2=contin.quantile(0.95)\n",
    "    q1=contin.quantile(0.25)\n",
    "    q3=contin.quantile(0.75)\n",
    "    iqr=q3-q1\n",
    "    lower=q1-1.5*iqr\n",
    "    upper=q3+1.5*iqr\n",
    "    out1=contin[contin<lower].values\n",
    "    out2=contin[contin>upper].values\n",
    "    contin.replace(out1,x1,inplace=True)\n",
    "    contin.replace(out2,x2,inplace=True)\n"
   ]
  },
  {
   "cell_type": "code",
   "execution_count": null,
   "id": "7d273f0a",
   "metadata": {},
   "outputs": [],
   "source": [
    "out(df_clean.price)\n",
    "out(df_clean.Area)\n",
    "out(df_clean['Floor No.'])\n",
    "out(df_clean['Total Floor Count'])"
   ]
  },
  {
   "cell_type": "code",
   "execution_count": null,
   "id": "c3e71844",
   "metadata": {},
   "outputs": [],
   "source": [
    "plt.figure(figsize=(15,5))\n",
    "df_clean.boxplot()\n",
    "plt.show()"
   ]
  },
  {
   "cell_type": "code",
   "execution_count": null,
   "id": "f31b8066",
   "metadata": {},
   "outputs": [],
   "source": [
    "df_clean.info()"
   ]
  },
  {
   "cell_type": "code",
   "execution_count": null,
   "id": "633b5ea0",
   "metadata": {},
   "outputs": [],
   "source": [
    "df_clean.head()"
   ]
  },
  {
   "cell_type": "markdown",
   "id": "706f8a40",
   "metadata": {},
   "source": [
    "# label Encoding"
   ]
  },
  {
   "cell_type": "code",
   "execution_count": null,
   "id": "cb925fe5",
   "metadata": {},
   "outputs": [],
   "source": []
  },
  {
   "cell_type": "code",
   "execution_count": null,
   "id": "c9ee3aa3",
   "metadata": {},
   "outputs": [],
   "source": [
    "x=df_clean.drop(['price'],axis=1)\n",
    "x.head()"
   ]
  },
  {
   "cell_type": "code",
   "execution_count": null,
   "id": "85445314",
   "metadata": {},
   "outputs": [],
   "source": [
    "x.columns"
   ]
  },
  {
   "cell_type": "code",
   "execution_count": null,
   "id": "a0173f29",
   "metadata": {},
   "outputs": [],
   "source": [
    "x.dtypes"
   ]
  },
  {
   "cell_type": "code",
   "execution_count": null,
   "id": "cb374de9",
   "metadata": {},
   "outputs": [],
   "source": [
    "y=df_clean[['price']]\n",
    "y.head()"
   ]
  },
  {
   "cell_type": "markdown",
   "id": "57a86b5b",
   "metadata": {},
   "source": [
    "# OneHotEncoder"
   ]
  },
  {
   "cell_type": "code",
   "execution_count": null,
   "id": "760d9e4c",
   "metadata": {},
   "outputs": [],
   "source": [
    "from sklearn.preprocessing import OneHotEncoder\n",
    "ohe = OneHotEncoder(handle_unknown='ignore',sparse = False)"
   ]
  },
  {
   "cell_type": "code",
   "execution_count": null,
   "id": "86c63ecc",
   "metadata": {},
   "outputs": [],
   "source": [
    "x.head()"
   ]
  },
  {
   "cell_type": "code",
   "execution_count": null,
   "id": "498fc7d2",
   "metadata": {},
   "outputs": [],
   "source": [
    "bat=x.iloc[:,[0,2,3,7,9,10]]"
   ]
  },
  {
   "cell_type": "code",
   "execution_count": null,
   "id": "7d10ae51",
   "metadata": {},
   "outputs": [],
   "source": [
    "ball=x.iloc[:,[1,4,5,6,8,11]]"
   ]
  },
  {
   "cell_type": "code",
   "execution_count": null,
   "id": "e243f8ad",
   "metadata": {},
   "outputs": [],
   "source": [
    "ball"
   ]
  },
  {
   "cell_type": "code",
   "execution_count": null,
   "id": "b1d83b53",
   "metadata": {},
   "outputs": [],
   "source": [
    "result = pd.concat([bat,ball], axis=1, join='inner')\n",
    "display(result)"
   ]
  },
  {
   "cell_type": "code",
   "execution_count": null,
   "id": "72f12610",
   "metadata": {},
   "outputs": [],
   "source": [
    "import joblib\n",
    "\n",
    "joblib.dump(ohe,'ohe.joblib')"
   ]
  },
  {
   "cell_type": "markdown",
   "id": "bcd398ae",
   "metadata": {},
   "source": [
    "# CLUSTERING"
   ]
  },
  {
   "cell_type": "code",
   "execution_count": null,
   "id": "d2e2948b",
   "metadata": {},
   "outputs": [],
   "source": [
    "clust_data=x.iloc[:,[1,4,5,6,8,11]]"
   ]
  },
  {
   "cell_type": "code",
   "execution_count": null,
   "id": "c1e3db64",
   "metadata": {},
   "outputs": [],
   "source": [
    "clust_data.head()"
   ]
  },
  {
   "cell_type": "code",
   "execution_count": null,
   "id": "bd4b4854",
   "metadata": {},
   "outputs": [],
   "source": [
    "import sklearn"
   ]
  },
  {
   "cell_type": "code",
   "execution_count": null,
   "id": "9a37140c",
   "metadata": {},
   "outputs": [],
   "source": [
    "# import libriers\n",
    "from sklearn.cluster import KMeans"
   ]
  },
  {
   "cell_type": "markdown",
   "id": "43cf89ec",
   "metadata": {},
   "source": [
    "# To get max no of clusters"
   ]
  },
  {
   "cell_type": "code",
   "execution_count": null,
   "id": "116ddfb9",
   "metadata": {},
   "outputs": [],
   "source": [
    "### checking for no of clusters \n",
    "wcss=[] # within - cluster -sum of- clusters\n",
    "## cde to get max no of clusters\n",
    "for i in range(1,11):\n",
    "    kmeans = KMeans(n_clusters=i, init='k-means++', random_state=0)\n",
    "    kmeans.fit(clust_data)\n",
    "    wcss.append(kmeans.inertia_)\n",
    "\n",
    "print(wcss)    "
   ]
  },
  {
   "cell_type": "code",
   "execution_count": null,
   "id": "206585ea",
   "metadata": {},
   "outputs": [],
   "source": [
    "plt.plot(range(1,11), wcss, marker=\"o\")\n",
    "plt.title('The Elbow Method')\n",
    "plt.xlabel('no of clusters')\n",
    "plt.ylabel('wcss')\n",
    "plt.show()"
   ]
  },
  {
   "cell_type": "markdown",
   "id": "77952532",
   "metadata": {},
   "source": [
    "# ELBOW IS DROPING AT 2 & 4 CLUSTERS WE ARE GOING WITH 3 CLUSTERS"
   ]
  },
  {
   "cell_type": "code",
   "execution_count": null,
   "id": "13812285",
   "metadata": {},
   "outputs": [],
   "source": [
    "## fitting the kmean to data set\n",
    "model=KMeans(n_clusters=3,random_state=0)"
   ]
  },
  {
   "cell_type": "code",
   "execution_count": null,
   "id": "2b9e8079",
   "metadata": {},
   "outputs": [],
   "source": [
    "y_kmeans= model.fit_predict(clust_data) ## appplying k means inthe data"
   ]
  },
  {
   "cell_type": "code",
   "execution_count": null,
   "id": "33479c49",
   "metadata": {},
   "outputs": [],
   "source": [
    "X1=np.array(clust_data)"
   ]
  },
  {
   "cell_type": "code",
   "execution_count": null,
   "id": "fd83159f",
   "metadata": {},
   "outputs": [],
   "source": [
    "plt.scatter(X1[y_kmeans == 0, 0], X1[y_kmeans == 0, 1], s = 100, c = 'red', label ='cluster 1')\n",
    "plt.scatter(X1[y_kmeans == 1, 0], X1[y_kmeans == 1, 1], s = 100, c = 'blue', label='cluster 2')\n",
    "plt.scatter(X1[y_kmeans == 2, 0], X1[y_kmeans == 2, 1], s = 100, c = 'green', label='cluster 3')\n",
    "plt.scatter(model.cluster_centers_[:,0],model.cluster_centers_[:,1],color=\"black\",s=200,marker = \"*\")\n",
    "\n",
    "#plt.scatter(X[:, 0], X[:, 1], s = 300, c = 'yellow', label = 'Centroids')\n",
    "plt.title('Clusters of Data')\n",
    "plt.legend()\n",
    "plt.show()"
   ]
  },
  {
   "cell_type": "code",
   "execution_count": null,
   "id": "44094d76",
   "metadata": {},
   "outputs": [],
   "source": []
  },
  {
   "cell_type": "code",
   "execution_count": null,
   "id": "6b60438a",
   "metadata": {},
   "outputs": [],
   "source": [
    "## adding clustering  varinle to exesting  dataset\n",
    "df_clean[\"clustering\"]=pd.Series(y_kmeans)\n",
    "df_clean.head()"
   ]
  },
  {
   "cell_type": "code",
   "execution_count": null,
   "id": "04ca8ed1",
   "metadata": {},
   "outputs": [],
   "source": [
    "df_clean.groupby(['clustering']).agg({'price':['mean','min','max','size']})"
   ]
  },
  {
   "cell_type": "code",
   "execution_count": null,
   "id": "bb2127f2",
   "metadata": {},
   "outputs": [],
   "source": [
    "df_clean['clustering']=df_clean['clustering'].replace({0:'premium',1:'high',2:'low'}) "
   ]
  },
  {
   "cell_type": "code",
   "execution_count": null,
   "id": "e59eeedb",
   "metadata": {},
   "outputs": [],
   "source": [
    "df_clean.groupby(['clustering']).agg({'price':['mean','min','max','size']})"
   ]
  },
  {
   "cell_type": "code",
   "execution_count": null,
   "id": "0046f23c",
   "metadata": {},
   "outputs": [],
   "source": [
    "df_clean.to_csv(r'C:\\Users\\kakar\\Downloads\\DS Data sets\\Realestate_with_clusters.csv',index= False)"
   ]
  },
  {
   "cell_type": "code",
   "execution_count": null,
   "id": "f6c76e17",
   "metadata": {},
   "outputs": [],
   "source": []
  },
  {
   "cell_type": "markdown",
   "id": "f699b27c",
   "metadata": {},
   "source": [
    "## IMPORTING CLUSTERED DATA"
   ]
  },
  {
   "cell_type": "code",
   "execution_count": null,
   "id": "88e38655",
   "metadata": {},
   "outputs": [],
   "source": [
    "Raw=pd.read_csv(r'C:\\Users\\kakar\\Downloads\\DS Data sets\\Realestate_with_clusters.csv')\n",
    "Raw.head()"
   ]
  },
  {
   "cell_type": "code",
   "execution_count": null,
   "id": "66f771c9",
   "metadata": {},
   "outputs": [],
   "source": []
  },
  {
   "cell_type": "code",
   "execution_count": null,
   "id": "98ba524e",
   "metadata": {},
   "outputs": [],
   "source": []
  },
  {
   "cell_type": "markdown",
   "id": "441a9bc8",
   "metadata": {},
   "source": [
    "### Classification"
   ]
  },
  {
   "cell_type": "code",
   "execution_count": null,
   "id": "64244df2",
   "metadata": {},
   "outputs": [],
   "source": [
    "df_class= Raw.copy()"
   ]
  },
  {
   "cell_type": "code",
   "execution_count": null,
   "id": "80efa7a7",
   "metadata": {},
   "outputs": [],
   "source": [
    "df_class.head()"
   ]
  },
  {
   "cell_type": "code",
   "execution_count": null,
   "id": "f62a77f6",
   "metadata": {},
   "outputs": [],
   "source": []
  },
  {
   "cell_type": "code",
   "execution_count": null,
   "id": "5ccf83fc",
   "metadata": {},
   "outputs": [],
   "source": []
  },
  {
   "cell_type": "code",
   "execution_count": null,
   "id": "42435ec3",
   "metadata": {},
   "outputs": [],
   "source": []
  },
  {
   "cell_type": "markdown",
   "id": "01bd3793",
   "metadata": {},
   "source": [
    "### Regresssion"
   ]
  },
  {
   "cell_type": "code",
   "execution_count": null,
   "id": "74eb4fcc",
   "metadata": {},
   "outputs": [],
   "source": [
    "df_reg= Raw.copy()"
   ]
  },
  {
   "cell_type": "code",
   "execution_count": null,
   "id": "4202c40f",
   "metadata": {},
   "outputs": [],
   "source": [
    "df_reg.head()"
   ]
  },
  {
   "cell_type": "code",
   "execution_count": null,
   "id": "9e82547b",
   "metadata": {},
   "outputs": [],
   "source": [
    "df=pd.read_csv(r'C:\\Users\\kakar\\Downloads\\DS Data sets\\Realestate_finalformodelbulding.csv')"
   ]
  },
  {
   "cell_type": "code",
   "execution_count": null,
   "id": "9e41b18b",
   "metadata": {},
   "outputs": [],
   "source": [
    "df.info()"
   ]
  },
  {
   "cell_type": "code",
   "execution_count": null,
   "id": "063408d7",
   "metadata": {},
   "outputs": [],
   "source": [
    "x1=df.drop(['clustering'],axis=1)\n",
    "x1"
   ]
  },
  {
   "cell_type": "code",
   "execution_count": null,
   "id": "e5c8fb0b",
   "metadata": {},
   "outputs": [],
   "source": [
    "y1=df['clustering']\n",
    "y1"
   ]
  },
  {
   "cell_type": "code",
   "execution_count": null,
   "id": "bf688504",
   "metadata": {},
   "outputs": [],
   "source": [
    "y1.value_counts(normalize=True)*100"
   ]
  },
  {
   "cell_type": "code",
   "execution_count": null,
   "id": "654f5c95",
   "metadata": {
    "scrolled": true
   },
   "outputs": [],
   "source": [
    "y1=df['clustering']=df['clustering'].replace({'high':1,'low':0,'premium':2}) \n",
    "y1"
   ]
  },
  {
   "cell_type": "code",
   "execution_count": null,
   "id": "41538a36",
   "metadata": {},
   "outputs": [],
   "source": [
    "from sklearn .preprocessing import MinMaxScaler"
   ]
  },
  {
   "cell_type": "code",
   "execution_count": null,
   "id": "aa4444f1",
   "metadata": {},
   "outputs": [],
   "source": [
    "scale = MinMaxScaler()"
   ]
  },
  {
   "cell_type": "code",
   "execution_count": null,
   "id": "2dd613f7",
   "metadata": {},
   "outputs": [],
   "source": [
    "x_scale = scale.fit_transform(x1)"
   ]
  },
  {
   "cell_type": "code",
   "execution_count": null,
   "id": "b333718c",
   "metadata": {},
   "outputs": [],
   "source": [
    "names=x1.columns\n",
    "names"
   ]
  },
  {
   "cell_type": "code",
   "execution_count": null,
   "id": "4ee6b5ef",
   "metadata": {},
   "outputs": [],
   "source": [
    "x11=pd.DataFrame(x_scale,columns=names)\n",
    "x11"
   ]
  },
  {
   "cell_type": "markdown",
   "id": "86fb06f4",
   "metadata": {},
   "source": [
    "# classficaton model"
   ]
  },
  {
   "cell_type": "markdown",
   "id": "db85379b",
   "metadata": {},
   "source": [
    "# Testing & Training"
   ]
  },
  {
   "cell_type": "code",
   "execution_count": null,
   "id": "7c0291d5",
   "metadata": {},
   "outputs": [],
   "source": [
    "from sklearn.model_selection import train_test_split\n",
    "x_train,x_test,y_train,y_test =train_test_split(x11,y1,test_size=0.30,random_state=0)"
   ]
  },
  {
   "cell_type": "code",
   "execution_count": null,
   "id": "0052d9c1",
   "metadata": {},
   "outputs": [],
   "source": []
  },
  {
   "cell_type": "code",
   "execution_count": null,
   "id": "7e21503f",
   "metadata": {},
   "outputs": [],
   "source": [
    "from sklearn.linear_model import LogisticRegression\n",
    "from sklearn.neighbors import KNeighborsClassifier\n",
    "from sklearn.tree import DecisionTreeClassifier\n",
    "from sklearn.svm import SVC\n",
    "from sklearn.ensemble import RandomForestClassifier\n",
    "from sklearn.naive_bayes import GaussianNB\n",
    "from xgboost import XGBClassifier\n",
    "import warnings\n",
    "warnings.filterwarnings(\"ignore\")\n",
    "\n",
    "\n",
    "from sklearn import model_selection\n",
    "from sklearn.utils import class_weight\n",
    "from sklearn.metrics import classification_report\n",
    "from sklearn.metrics import confusion_matrix,accuracy_score\n"
   ]
  },
  {
   "cell_type": "code",
   "execution_count": null,
   "id": "cde67034",
   "metadata": {},
   "outputs": [],
   "source": [
    "x_train.info()"
   ]
  },
  {
   "cell_type": "code",
   "execution_count": null,
   "id": "e2cf8439",
   "metadata": {},
   "outputs": [],
   "source": [
    "y1"
   ]
  },
  {
   "cell_type": "code",
   "execution_count": null,
   "id": "50854035",
   "metadata": {},
   "outputs": [],
   "source": []
  },
  {
   "cell_type": "code",
   "execution_count": null,
   "id": "464d6051",
   "metadata": {},
   "outputs": [],
   "source": [
    "classifier = LogisticRegression()\n",
    "classifier.fit(x_train,y_train)                       ##LOGISTIC\n",
    "y_pred = classifier.predict(x_test)\n",
    "confusion_matrix(y_pred,y_test)\n"
   ]
  },
  {
   "cell_type": "code",
   "execution_count": null,
   "id": "cc03914d",
   "metadata": {},
   "outputs": [],
   "source": [
    "score1=accuracy_score(y_pred,y_test)\n",
    "\n"
   ]
  },
  {
   "cell_type": "code",
   "execution_count": null,
   "id": "e4d4c991",
   "metadata": {},
   "outputs": [],
   "source": [
    "classifier1 = KNeighborsClassifier()\n",
    "classifier1.fit(x_train,y_train)                       ##KNN-CLASSIFIER\n",
    "y_pred1 = classifier1.predict(x_test)\n",
    "confusion_matrix(y_pred1,y_test)\n",
    "\n"
   ]
  },
  {
   "cell_type": "code",
   "execution_count": null,
   "id": "62eac636",
   "metadata": {},
   "outputs": [],
   "source": [
    "score2=accuracy_score(y_pred1,y_test)\n"
   ]
  },
  {
   "cell_type": "code",
   "execution_count": null,
   "id": "931e32e1",
   "metadata": {},
   "outputs": [],
   "source": [
    "\n",
    "classifier2 = DecisionTreeClassifier()\n",
    "classifier2.fit(x_train,y_train)                       ##DT-CLASSIFIER\n",
    "y_pred2 = classifier2.predict(x_test)\n",
    "confusion_matrix(y_pred2,y_test)\n"
   ]
  },
  {
   "cell_type": "code",
   "execution_count": null,
   "id": "90e94277",
   "metadata": {},
   "outputs": [],
   "source": [
    "score3=accuracy_score(y_pred2,y_test)"
   ]
  },
  {
   "cell_type": "code",
   "execution_count": null,
   "id": "e0242f0b",
   "metadata": {},
   "outputs": [],
   "source": [
    "classifier3 = SVC()\n",
    "classifier3.fit(x_train,y_train)                       ##svc\n",
    "y_pred3 = classifier3.predict(x_test)\n",
    "confusion_matrix(y_pred3,y_test)\n"
   ]
  },
  {
   "cell_type": "code",
   "execution_count": null,
   "id": "a1813a52",
   "metadata": {},
   "outputs": [],
   "source": [
    "score4=accuracy_score(y_pred3,y_test)"
   ]
  },
  {
   "cell_type": "code",
   "execution_count": null,
   "id": "bdb30536",
   "metadata": {},
   "outputs": [],
   "source": [
    "classifier4 = RandomForestClassifier()\n",
    "classifier4.fit(x_train,y_train)                       ##rf-CLASSIFIER\n",
    "y_pred4 = classifier4.predict(x_test)\n",
    "confusion_matrix(y_pred4,y_test)"
   ]
  },
  {
   "cell_type": "code",
   "execution_count": null,
   "id": "949e153e",
   "metadata": {},
   "outputs": [],
   "source": [
    "score5=accuracy_score(y_pred4,y_test)"
   ]
  },
  {
   "cell_type": "code",
   "execution_count": null,
   "id": "1222be24",
   "metadata": {},
   "outputs": [],
   "source": [
    "classifier5 = GaussianNB()\n",
    "classifier5.fit(x_train,y_train)                       \n",
    "y_pred5 = classifier5.predict(x_test)               #GaussianNB   navies bayiee\n",
    "confusion_matrix(y_pred5,y_test)"
   ]
  },
  {
   "cell_type": "code",
   "execution_count": null,
   "id": "67cf661f",
   "metadata": {},
   "outputs": [],
   "source": [
    "score6=accuracy_score(y_pred5,y_test)"
   ]
  },
  {
   "cell_type": "code",
   "execution_count": null,
   "id": "28d15966",
   "metadata": {},
   "outputs": [],
   "source": [
    "classifier6 = XGBClassifier()\n",
    "classifier6.fit(x_train,y_train)                       ##xgb classfier\n",
    "y_pred6 = classifier6.predict(x_test)\n",
    "confusion_matrix(y_pred6,y_test)"
   ]
  },
  {
   "cell_type": "code",
   "execution_count": null,
   "id": "88977373",
   "metadata": {},
   "outputs": [],
   "source": [
    "score7=accuracy_score(y_pred6,y_test)"
   ]
  },
  {
   "cell_type": "code",
   "execution_count": null,
   "id": "8d26aece",
   "metadata": {},
   "outputs": [],
   "source": [
    "models = []\n",
    "models.append(('LR', LogisticRegression()))\n",
    "models.append(('KNN', KNeighborsClassifier()))\n",
    "models.append(('CART', DecisionTreeClassifier()))\n",
    "models.append(('NB', GaussianNB()))\n",
    "models.append(('SVM', SVC()))\n",
    "models.append(('RF', RandomForestClassifier()))\n",
    "models.append(('XGB', XGBClassifier()))\n",
    "\n",
    "# evaluate each model in turn\n",
    "results = []\n",
    "names = []\n",
    "scoring = 'accuracy'\n",
    "seed = 7\n",
    "for name, model in models:\n",
    "    kfold = model_selection.KFold(n_splits=10, random_state = None)\n",
    "    cv_results = model_selection.cross_val_score(model, x1 , y1, cv=kfold, scoring=scoring)\n",
    "    results.append(cv_results)\n",
    "    names.append(name)\n",
    "    msg = \"%s: %f (%f)\" % (name, cv_results.mean(), cv_results.std())\n",
    "    print(msg)\n",
    "\n",
    "# boxplot algorithm comparison\n",
    "fig = plt.figure()\n",
    "fig.suptitle('Algorithm Comparison')\n",
    "ax = fig.add_subplot(111)\n",
    "plt.boxplot(results)\n",
    "ax.set_xticklabels(names)\n",
    "plt.show()"
   ]
  },
  {
   "cell_type": "code",
   "execution_count": null,
   "id": "4a15e218",
   "metadata": {},
   "outputs": [],
   "source": [
    "joblib.dump(classifier1,'classfication.pkl')"
   ]
  },
  {
   "cell_type": "code",
   "execution_count": null,
   "id": "7f06be0d",
   "metadata": {},
   "outputs": [],
   "source": [
    "models=pd.DataFrame({'Model':['logistic regression','K-NEAREST NEIGHBOUR','DESSION TREE CLASSFIER','NAVIE BAYIES CLASSFIER','SUPPORTIVE VECTOR MACHIE','RANDOM FOREST CLASSFIER','XG-BOOST CLASSFIER'],\n",
    "                     'Accuracy':[score1,score2,score3,score4,score5,score6,score7]\n",
    "                    })"
   ]
  },
  {
   "cell_type": "code",
   "execution_count": null,
   "id": "b79adc5f",
   "metadata": {},
   "outputs": [],
   "source": [
    "models"
   ]
  },
  {
   "cell_type": "markdown",
   "id": "8688f79b",
   "metadata": {},
   "source": [
    "# Removing price column"
   ]
  },
  {
   "cell_type": "code",
   "execution_count": null,
   "id": "59a29b60",
   "metadata": {},
   "outputs": [],
   "source": [
    "df"
   ]
  },
  {
   "cell_type": "code",
   "execution_count": null,
   "id": "2bb53e4c",
   "metadata": {},
   "outputs": [],
   "source": [
    "df.drop(['price'],axis =1)"
   ]
  },
  {
   "cell_type": "code",
   "execution_count": null,
   "id": "219815d0",
   "metadata": {},
   "outputs": [],
   "source": [
    "x2=df.drop(['clustering'],axis=1)\n",
    "x2"
   ]
  },
  {
   "cell_type": "code",
   "execution_count": null,
   "id": "fd809916",
   "metadata": {},
   "outputs": [],
   "source": [
    "y2=df['clustering']\n",
    "y2"
   ]
  },
  {
   "cell_type": "code",
   "execution_count": null,
   "id": "199f625d",
   "metadata": {},
   "outputs": [],
   "source": [
    "classifier = LogisticRegression()\n",
    "classifier.fit(x_train,y_train)                       ##LOGISTIC\n",
    "y_pred = classifier.predict(x_test)\n",
    "confusion_matrix(y_pred,y_test)\n"
   ]
  },
  {
   "cell_type": "code",
   "execution_count": null,
   "id": "c5c327c0",
   "metadata": {},
   "outputs": [],
   "source": [
    "Score1=accuracy_score(y_pred,y_test)\n",
    "Score1"
   ]
  },
  {
   "cell_type": "code",
   "execution_count": null,
   "id": "1c9deb85",
   "metadata": {},
   "outputs": [],
   "source": [
    "classifier1 = KNeighborsClassifier()\n",
    "classifier1.fit(x_train,y_train)                       ##KNN-CLASSIFIER\n",
    "y_pred1 = classifier1.predict(x_test)\n",
    "confusion_matrix(y_pred1,y_test)"
   ]
  },
  {
   "cell_type": "code",
   "execution_count": null,
   "id": "10bad4d5",
   "metadata": {},
   "outputs": [],
   "source": [
    "Score2=accuracy_score(y_pred1,y_test)\n",
    "Score2"
   ]
  },
  {
   "cell_type": "code",
   "execution_count": null,
   "id": "13093892",
   "metadata": {},
   "outputs": [],
   "source": [
    "\n",
    "classifier2 = DecisionTreeClassifier()\n",
    "classifier2.fit(x_train,y_train)                       ##DT-CLASSIFIER\n",
    "y_pred2 = classifier2.predict(x_test)\n",
    "confusion_matrix(y_pred2,y_test)"
   ]
  },
  {
   "cell_type": "code",
   "execution_count": null,
   "id": "f8ff4bca",
   "metadata": {},
   "outputs": [],
   "source": [
    "Score3=accuracy_score(y_pred2,y_test)\n",
    "Score3"
   ]
  },
  {
   "cell_type": "code",
   "execution_count": null,
   "id": "5dc7b83e",
   "metadata": {},
   "outputs": [],
   "source": [
    "classifier3 = SVC()\n",
    "classifier3.fit(x_train,y_train)                       ##svc\n",
    "y_pred3 = classifier3.predict(x_test)\n",
    "confusion_matrix(y_pred3,y_test)\n"
   ]
  },
  {
   "cell_type": "code",
   "execution_count": null,
   "id": "48b8ac7c",
   "metadata": {},
   "outputs": [],
   "source": [
    "Score4=accuracy_score(y_pred3,y_test)\n",
    "Score4"
   ]
  },
  {
   "cell_type": "code",
   "execution_count": null,
   "id": "4c02dd98",
   "metadata": {},
   "outputs": [],
   "source": [
    "classifier4 = RandomForestClassifier()\n",
    "classifier4.fit(x_train,y_train)                       ##rf-CLASSIFIER\n",
    "y_pred4 = classifier4.predict(x_test)\n",
    "confusion_matrix(y_pred4,y_test)"
   ]
  },
  {
   "cell_type": "code",
   "execution_count": null,
   "id": "dc6f9046",
   "metadata": {},
   "outputs": [],
   "source": [
    "Score5=accuracy_score(y_pred4,y_test)\n",
    "Score5"
   ]
  },
  {
   "cell_type": "code",
   "execution_count": null,
   "id": "04114dab",
   "metadata": {},
   "outputs": [],
   "source": [
    "classifier5 = GaussianNB()\n",
    "classifier5.fit(x_train,y_train)                       \n",
    "y_pred5 = classifier5.predict(x_test)               #GaussianNB   navies bayiee\n",
    "confusion_matrix(y_pred5,y_test)"
   ]
  },
  {
   "cell_type": "code",
   "execution_count": null,
   "id": "259b967d",
   "metadata": {},
   "outputs": [],
   "source": [
    "Score6=accuracy_score(y_pred5,y_test)\n",
    "Score6"
   ]
  },
  {
   "cell_type": "code",
   "execution_count": null,
   "id": "2c776f32",
   "metadata": {},
   "outputs": [],
   "source": [
    "classifier6 = XGBClassifier()\n",
    "classifier6.fit(x_train,y_train)                       ##xgb classfier\n",
    "y_pred6 = classifier6.predict(x_test)\n",
    "confusion_matrix(y_pred6,y_test)"
   ]
  },
  {
   "cell_type": "code",
   "execution_count": null,
   "id": "1bd9bea2",
   "metadata": {},
   "outputs": [],
   "source": [
    "Score7=accuracy_score(y_pred6,y_test)\n",
    "Score7"
   ]
  },
  {
   "cell_type": "code",
   "execution_count": null,
   "id": "89dc9625",
   "metadata": {},
   "outputs": [],
   "source": [
    "models = []\n",
    "models.append(('LR', LogisticRegression()))\n",
    "models.append(('KNN', KNeighborsClassifier()))\n",
    "models.append(('CART', DecisionTreeClassifier()))\n",
    "models.append(('NB', GaussianNB()))\n",
    "models.append(('SVM', SVC()))\n",
    "models.append(('RF', RandomForestClassifier()))\n",
    "models.append(('XGB', XGBClassifier()))\n",
    "\n",
    "# evaluate each model in turn\n",
    "results = []\n",
    "names = []\n",
    "scoring = 'accuracy'\n",
    "seed = 7\n",
    "for name, model in models:\n",
    "    kfold = model_selection.KFold(n_splits=10, random_state = None)\n",
    "    cv_results = model_selection.cross_val_score(model, x1 , y1, cv=kfold, scoring=scoring)\n",
    "    results.append(cv_results)\n",
    "    names.append(name)\n",
    "    msg = \"%s: %f (%f)\" % (name, cv_results.mean(), cv_results.std())\n",
    "    print(msg)\n",
    "\n",
    "# boxplot algorithm comparison\n",
    "fig = plt.figure()\n",
    "fig.suptitle('Algorithm Comparison')\n",
    "ax = fig.add_subplot(111)\n",
    "plt.boxplot(results)\n",
    "ax.set_xticklabels(names)\n",
    "plt.show()"
   ]
  },
  {
   "cell_type": "code",
   "execution_count": null,
   "id": "67384330",
   "metadata": {},
   "outputs": [],
   "source": [
    "models1=pd.DataFrame({'Model':['logistic regression','K-NEAREST NEIGHBOUR','DESSION TREE CLASSFIER','NAVIE BAYIES CLASSFIER','SUPPORTIVE VECTOR MACHIE','RANDOM FOREST CLASSFIER','XG-BOOST CLASSFIER'],\n",
    "                     'Accuracy':[Score1,Score2,Score3,Score4,Score5,Score6,Score7]\n",
    "                    })"
   ]
  },
  {
   "cell_type": "code",
   "execution_count": null,
   "id": "9380432a",
   "metadata": {},
   "outputs": [],
   "source": [
    "models1"
   ]
  },
  {
   "cell_type": "code",
   "execution_count": null,
   "id": "e44bdead",
   "metadata": {},
   "outputs": [],
   "source": [
    "joblib.dump(classifier1,'class.pkl')"
   ]
  },
  {
   "cell_type": "markdown",
   "id": "055a2231",
   "metadata": {},
   "source": [
    "# REGRESSION MODEL"
   ]
  },
  {
   "cell_type": "markdown",
   "id": "05f87190",
   "metadata": {},
   "source": [
    "multiple linear regression"
   ]
  },
  {
   "cell_type": "markdown",
   "id": "034343b5",
   "metadata": {},
   "source": [
    "# Train test split"
   ]
  },
  {
   "cell_type": "code",
   "execution_count": null,
   "id": "00875bba",
   "metadata": {},
   "outputs": [],
   "source": [
    "df"
   ]
  },
  {
   "cell_type": "code",
   "execution_count": null,
   "id": "8e40a481",
   "metadata": {},
   "outputs": [],
   "source": [
    "x=df.drop('price',axis=1)\n",
    "y=df[['price']]"
   ]
  },
  {
   "cell_type": "code",
   "execution_count": null,
   "id": "c24fbeb9",
   "metadata": {},
   "outputs": [],
   "source": [
    "x_train,x_test,y_train,y_test=train_test_split(x,y,test_size=0.2,random_state=0)"
   ]
  },
  {
   "cell_type": "code",
   "execution_count": null,
   "id": "bed95b55",
   "metadata": {},
   "outputs": [],
   "source": [
    "y"
   ]
  },
  {
   "cell_type": "code",
   "execution_count": null,
   "id": "035c895c",
   "metadata": {},
   "outputs": [],
   "source": [
    "from sklearn.linear_model import LinearRegression\n",
    "from sklearn import metrics\n",
    "from sklearn.metrics import r2_score\n",
    "model = LinearRegression()\n",
    "model.fit(x_train,y_train)"
   ]
  },
  {
   "cell_type": "code",
   "execution_count": null,
   "id": "372d39fc",
   "metadata": {},
   "outputs": [],
   "source": [
    "y_pred = model.predict(x_test)"
   ]
  },
  {
   "cell_type": "code",
   "execution_count": null,
   "id": "a449886d",
   "metadata": {},
   "outputs": [],
   "source": [
    "y_pred"
   ]
  },
  {
   "cell_type": "code",
   "execution_count": null,
   "id": "c79c5d5c",
   "metadata": {},
   "outputs": [],
   "source": [
    "y_test"
   ]
  },
  {
   "cell_type": "code",
   "execution_count": null,
   "id": "e4b77295",
   "metadata": {},
   "outputs": [],
   "source": [
    "len(y_test)"
   ]
  },
  {
   "cell_type": "code",
   "execution_count": null,
   "id": "5283f52d",
   "metadata": {},
   "outputs": [],
   "source": [
    "print('Mean Squared Error:', metrics.mean_squared_error(y_test, y_pred))\n",
    "print('Root Mean Squared Error:', np.sqrt(metrics.mean_squared_error(y_test, y_pred)))\n",
    "print('mean absolute error:', metrics.mean_absolute_error(y_test, y_pred))\n",
    "print(\"r2 score value:\", metrics.r2_score(y_test, y_pred))\n",
    "print(\"Adjusted R^2:\",1 - (1-metrics.r2_score(y_test, y_pred))*(len(y_test)-1)/(len(y_test)- x_test.shape[1]-1))"
   ]
  },
  {
   "cell_type": "markdown",
   "id": "d0523844",
   "metadata": {},
   "source": [
    "# RANDOM FOREST"
   ]
  },
  {
   "cell_type": "code",
   "execution_count": null,
   "id": "f16d74f0",
   "metadata": {},
   "outputs": [],
   "source": [
    "from sklearn.ensemble import RandomForestRegressor"
   ]
  },
  {
   "cell_type": "code",
   "execution_count": null,
   "id": "73fdd279",
   "metadata": {},
   "outputs": [],
   "source": [
    "model_2 = RandomForestRegressor()\n",
    "model_2.fit(x_train,y_train)"
   ]
  },
  {
   "cell_type": "code",
   "execution_count": null,
   "id": "a1969c4f",
   "metadata": {},
   "outputs": [],
   "source": [
    "y_pred = model_2.predict(x_test)\n",
    "y_pred"
   ]
  },
  {
   "cell_type": "code",
   "execution_count": null,
   "id": "f0d9079b",
   "metadata": {},
   "outputs": [],
   "source": [
    "print('Mean Squared Error:', metrics.mean_squared_error(y_test, y_pred))\n",
    "print('Root Mean Squared Error:', np.sqrt(metrics.mean_squared_error(y_test, y_pred)))\n",
    "print('mean absolute error:', metrics.mean_absolute_error(y_test, y_pred))\n",
    "print(\"r2 score value:\", metrics.r2_score(y_test, y_pred))\n",
    "print(\"Adjusted R^2:\",1 - (1-metrics.r2_score(y_test, y_pred))*(len(y_test)-1)/(len(y_test)- x_test.shape[1]-1))"
   ]
  },
  {
   "cell_type": "code",
   "execution_count": null,
   "id": "046c7e8f",
   "metadata": {},
   "outputs": [],
   "source": [
    "joblib.dump(model_2,'regression.pkl')"
   ]
  },
  {
   "cell_type": "code",
   "execution_count": null,
   "id": "831437a7",
   "metadata": {},
   "outputs": [],
   "source": []
  }
 ],
 "metadata": {
  "kernelspec": {
   "display_name": "Python 3",
   "language": "python",
   "name": "python3"
  },
  "language_info": {
   "codemirror_mode": {
    "name": "ipython",
    "version": 3
   },
   "file_extension": ".py",
   "mimetype": "text/x-python",
   "name": "python",
   "nbconvert_exporter": "python",
   "pygments_lexer": "ipython3",
   "version": "3.8.8"
  }
 },
 "nbformat": 4,
 "nbformat_minor": 5
}
